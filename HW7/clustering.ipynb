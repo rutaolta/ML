{
 "cells": [
  {
   "cell_type": "markdown",
   "source": [
    "# Кластеризация\n",
    "\n",
    "## Цели работы:\n",
    "1. Реализовать алгоритм кластеризации и две меры качества.\n",
    "2. Реализовать алгоритм сокращения размерности.\n",
    "3. Анализ результатов.\n",
    "\n",
    "## Задание\n",
    "\n",
    "Реализуйте любой алгоритм кластеризации на выбор: \n",
    "\n",
    "1. K-Means;\n",
    "2. DBSCAN;\n",
    "3. иерархический алгоритм.\n",
    "\n",
    "Также реализуйте две метрики качества кластеризации: одну внешнюю и одну внутреннюю. Внутренняя мера качества должна учитывать как межкластерные так и внутрикластерные расстояния.\n",
    "\n",
    "Варианты внешних мер ([формулы](http://neerc.ifmo.ru/wiki/index.php?title=%D0%9E%D1%86%D0%B5%D0%BD%D0%BA%D0%B0_%D0%BA%D0%B0%D1%87%D0%B5%D1%81%D1%82%D0%B2%D0%B0_%D0%B2_%D0%B7%D0%B0%D0%B4%D0%B0%D1%87%D0%B5_%D0%BA%D0%BB%D0%B0%D1%81%D1%82%D0%B5%D1%80%D0%B8%D0%B7%D0%B0%D1%86%D0%B8%D0%B8) ):\n",
    "\n",
    "1. Rand index\n",
    "2. Jaccard index\n",
    "3. F-мера\n",
    "\t\n",
    "Варианты внутренних мер:\n",
    "\n",
    "1. Силуэтный индекс\n",
    "2. метрика Calinski-Harabasz\n",
    "3. метрика Dunn\n",
    "\n",
    "Нарисуйте два графика: набор данных с реальными метками и с метками полученными в результате кластеризации. Постарайтесь выбрать такие гиперпараметры  алгоритма кластеризации, чтобы результат кластеризации был как можно более похож на реальные метки. Для отрисовки многомерных данных используйте алгоритм сокращения размерности (например PCA или tSNE), но кластеризацию по прежнему проводите в многомерном пространстве.\n",
    "\n",
    "Постройте график зависимости выбранных метрик качества кластеризации от числа кластеров при выборе K-Means или иерархического алгоритма. В случае DBSCAN постройте график зависимости выбранных метрик качества кластеризации от радиуса шара.\n",
    "\n",
    "## Наборы данных\n",
    "\n",
    "Возьмите любой небольшой набор данных из OpenML или Kaggle"
   ],
   "metadata": {}
  },
  {
   "cell_type": "markdown",
   "source": [
    "# Imports"
   ],
   "metadata": {}
  },
  {
   "cell_type": "code",
   "execution_count": 40,
   "source": [
    "import pandas as pd\n",
    "import numpy as np\n",
    "import matplotlib.pyplot as plt\n",
    "from sklearn.datasets import load_iris\n",
    "from sklearn.preprocessing import normalize\n",
    "import scipy.cluster.hierarchy as shc\n",
    "from sklearn.decomposition import PCA\n",
    "from sklearn.preprocessing import StandardScaler\n",
    "from sklearn.cluster import AgglomerativeClustering\n",
    "from sklearn import metrics\n",
    "from sklearn.metrics.cluster import pair_confusion_matrix\n",
    "from sklearn.cluster import KMeans"
   ],
   "outputs": [],
   "metadata": {}
  },
  {
   "cell_type": "markdown",
   "source": [
    "# Data preparation"
   ],
   "metadata": {}
  },
  {
   "cell_type": "code",
   "execution_count": 16,
   "source": [
    "sleep = pd.read_csv('sleep.csv')\n",
    "sleep\n"
   ],
   "outputs": [
    {
     "output_type": "execute_result",
     "data": {
      "text/plain": [
       "    id  gpa     sleep  passed_unit_tests  passed_asserts  tackled_user_stories\n",
       "0    1   23    normal                  5               6                     5\n",
       "1    2   24    normal                  1               3                     2\n",
       "2    3   23    normal                  7               6                     5\n",
       "3    4   28    normal                  5               8                     4\n",
       "4    5   25    normal                  4               5                     3\n",
       "5    7   23    normal                  1               4                     2\n",
       "6    8   28    normal                  4               5                     3\n",
       "7    9   23    normal                  4               5                     3\n",
       "8   10   22    normal                  4               5                     3\n",
       "9   11   26    normal                  1               6                     2\n",
       "10  12   24    normal                  4               4                     3\n",
       "11  13   22    normal                  4               5                     3\n",
       "12  14   26    normal                  1               3                     2\n",
       "13  15   23    normal                  1               3                     2\n",
       "14  16   23    normal                  0               4                     0\n",
       "15  17   23    normal                  0               2                     1\n",
       "16  18   25    normal                  7               7                     5\n",
       "17  19   22    normal                  4               5                     3\n",
       "18  20   24    normal                  1               8                     2\n",
       "19  21   28    normal                  0               5                     1\n",
       "20  22   20    normal                  3               5                     3\n",
       "21  23   24  deprived                  1               2                     2\n",
       "22  24   26  deprived                  7               6                     5\n",
       "23  25   24  deprived                  4               2                     3\n",
       "24  29   24  deprived                  0               4                     1\n",
       "25  30   22  deprived                  1               4                     2\n",
       "26  31   25  deprived                  1               3                     2\n",
       "27  32   27  deprived                  1               3                     2\n",
       "28  34   25  deprived                  1               4                     2\n",
       "29  35   25  deprived                  0               2                     0\n",
       "30  36   22  deprived                  0               6                     1\n",
       "31  38   28  deprived                  0               3                     0\n",
       "32  40   24  deprived                  0               4                     0\n",
       "33  41   22  deprived                  1               2                     2\n",
       "34  44   22  deprived                  0               2                     1\n",
       "35  45   26  deprived                  0               2                     1"
      ],
      "text/html": [
       "<div>\n",
       "<style scoped>\n",
       "    .dataframe tbody tr th:only-of-type {\n",
       "        vertical-align: middle;\n",
       "    }\n",
       "\n",
       "    .dataframe tbody tr th {\n",
       "        vertical-align: top;\n",
       "    }\n",
       "\n",
       "    .dataframe thead th {\n",
       "        text-align: right;\n",
       "    }\n",
       "</style>\n",
       "<table border=\"1\" class=\"dataframe\">\n",
       "  <thead>\n",
       "    <tr style=\"text-align: right;\">\n",
       "      <th></th>\n",
       "      <th>id</th>\n",
       "      <th>gpa</th>\n",
       "      <th>sleep</th>\n",
       "      <th>passed_unit_tests</th>\n",
       "      <th>passed_asserts</th>\n",
       "      <th>tackled_user_stories</th>\n",
       "    </tr>\n",
       "  </thead>\n",
       "  <tbody>\n",
       "    <tr>\n",
       "      <th>0</th>\n",
       "      <td>1</td>\n",
       "      <td>23</td>\n",
       "      <td>normal</td>\n",
       "      <td>5</td>\n",
       "      <td>6</td>\n",
       "      <td>5</td>\n",
       "    </tr>\n",
       "    <tr>\n",
       "      <th>1</th>\n",
       "      <td>2</td>\n",
       "      <td>24</td>\n",
       "      <td>normal</td>\n",
       "      <td>1</td>\n",
       "      <td>3</td>\n",
       "      <td>2</td>\n",
       "    </tr>\n",
       "    <tr>\n",
       "      <th>2</th>\n",
       "      <td>3</td>\n",
       "      <td>23</td>\n",
       "      <td>normal</td>\n",
       "      <td>7</td>\n",
       "      <td>6</td>\n",
       "      <td>5</td>\n",
       "    </tr>\n",
       "    <tr>\n",
       "      <th>3</th>\n",
       "      <td>4</td>\n",
       "      <td>28</td>\n",
       "      <td>normal</td>\n",
       "      <td>5</td>\n",
       "      <td>8</td>\n",
       "      <td>4</td>\n",
       "    </tr>\n",
       "    <tr>\n",
       "      <th>4</th>\n",
       "      <td>5</td>\n",
       "      <td>25</td>\n",
       "      <td>normal</td>\n",
       "      <td>4</td>\n",
       "      <td>5</td>\n",
       "      <td>3</td>\n",
       "    </tr>\n",
       "    <tr>\n",
       "      <th>5</th>\n",
       "      <td>7</td>\n",
       "      <td>23</td>\n",
       "      <td>normal</td>\n",
       "      <td>1</td>\n",
       "      <td>4</td>\n",
       "      <td>2</td>\n",
       "    </tr>\n",
       "    <tr>\n",
       "      <th>6</th>\n",
       "      <td>8</td>\n",
       "      <td>28</td>\n",
       "      <td>normal</td>\n",
       "      <td>4</td>\n",
       "      <td>5</td>\n",
       "      <td>3</td>\n",
       "    </tr>\n",
       "    <tr>\n",
       "      <th>7</th>\n",
       "      <td>9</td>\n",
       "      <td>23</td>\n",
       "      <td>normal</td>\n",
       "      <td>4</td>\n",
       "      <td>5</td>\n",
       "      <td>3</td>\n",
       "    </tr>\n",
       "    <tr>\n",
       "      <th>8</th>\n",
       "      <td>10</td>\n",
       "      <td>22</td>\n",
       "      <td>normal</td>\n",
       "      <td>4</td>\n",
       "      <td>5</td>\n",
       "      <td>3</td>\n",
       "    </tr>\n",
       "    <tr>\n",
       "      <th>9</th>\n",
       "      <td>11</td>\n",
       "      <td>26</td>\n",
       "      <td>normal</td>\n",
       "      <td>1</td>\n",
       "      <td>6</td>\n",
       "      <td>2</td>\n",
       "    </tr>\n",
       "    <tr>\n",
       "      <th>10</th>\n",
       "      <td>12</td>\n",
       "      <td>24</td>\n",
       "      <td>normal</td>\n",
       "      <td>4</td>\n",
       "      <td>4</td>\n",
       "      <td>3</td>\n",
       "    </tr>\n",
       "    <tr>\n",
       "      <th>11</th>\n",
       "      <td>13</td>\n",
       "      <td>22</td>\n",
       "      <td>normal</td>\n",
       "      <td>4</td>\n",
       "      <td>5</td>\n",
       "      <td>3</td>\n",
       "    </tr>\n",
       "    <tr>\n",
       "      <th>12</th>\n",
       "      <td>14</td>\n",
       "      <td>26</td>\n",
       "      <td>normal</td>\n",
       "      <td>1</td>\n",
       "      <td>3</td>\n",
       "      <td>2</td>\n",
       "    </tr>\n",
       "    <tr>\n",
       "      <th>13</th>\n",
       "      <td>15</td>\n",
       "      <td>23</td>\n",
       "      <td>normal</td>\n",
       "      <td>1</td>\n",
       "      <td>3</td>\n",
       "      <td>2</td>\n",
       "    </tr>\n",
       "    <tr>\n",
       "      <th>14</th>\n",
       "      <td>16</td>\n",
       "      <td>23</td>\n",
       "      <td>normal</td>\n",
       "      <td>0</td>\n",
       "      <td>4</td>\n",
       "      <td>0</td>\n",
       "    </tr>\n",
       "    <tr>\n",
       "      <th>15</th>\n",
       "      <td>17</td>\n",
       "      <td>23</td>\n",
       "      <td>normal</td>\n",
       "      <td>0</td>\n",
       "      <td>2</td>\n",
       "      <td>1</td>\n",
       "    </tr>\n",
       "    <tr>\n",
       "      <th>16</th>\n",
       "      <td>18</td>\n",
       "      <td>25</td>\n",
       "      <td>normal</td>\n",
       "      <td>7</td>\n",
       "      <td>7</td>\n",
       "      <td>5</td>\n",
       "    </tr>\n",
       "    <tr>\n",
       "      <th>17</th>\n",
       "      <td>19</td>\n",
       "      <td>22</td>\n",
       "      <td>normal</td>\n",
       "      <td>4</td>\n",
       "      <td>5</td>\n",
       "      <td>3</td>\n",
       "    </tr>\n",
       "    <tr>\n",
       "      <th>18</th>\n",
       "      <td>20</td>\n",
       "      <td>24</td>\n",
       "      <td>normal</td>\n",
       "      <td>1</td>\n",
       "      <td>8</td>\n",
       "      <td>2</td>\n",
       "    </tr>\n",
       "    <tr>\n",
       "      <th>19</th>\n",
       "      <td>21</td>\n",
       "      <td>28</td>\n",
       "      <td>normal</td>\n",
       "      <td>0</td>\n",
       "      <td>5</td>\n",
       "      <td>1</td>\n",
       "    </tr>\n",
       "    <tr>\n",
       "      <th>20</th>\n",
       "      <td>22</td>\n",
       "      <td>20</td>\n",
       "      <td>normal</td>\n",
       "      <td>3</td>\n",
       "      <td>5</td>\n",
       "      <td>3</td>\n",
       "    </tr>\n",
       "    <tr>\n",
       "      <th>21</th>\n",
       "      <td>23</td>\n",
       "      <td>24</td>\n",
       "      <td>deprived</td>\n",
       "      <td>1</td>\n",
       "      <td>2</td>\n",
       "      <td>2</td>\n",
       "    </tr>\n",
       "    <tr>\n",
       "      <th>22</th>\n",
       "      <td>24</td>\n",
       "      <td>26</td>\n",
       "      <td>deprived</td>\n",
       "      <td>7</td>\n",
       "      <td>6</td>\n",
       "      <td>5</td>\n",
       "    </tr>\n",
       "    <tr>\n",
       "      <th>23</th>\n",
       "      <td>25</td>\n",
       "      <td>24</td>\n",
       "      <td>deprived</td>\n",
       "      <td>4</td>\n",
       "      <td>2</td>\n",
       "      <td>3</td>\n",
       "    </tr>\n",
       "    <tr>\n",
       "      <th>24</th>\n",
       "      <td>29</td>\n",
       "      <td>24</td>\n",
       "      <td>deprived</td>\n",
       "      <td>0</td>\n",
       "      <td>4</td>\n",
       "      <td>1</td>\n",
       "    </tr>\n",
       "    <tr>\n",
       "      <th>25</th>\n",
       "      <td>30</td>\n",
       "      <td>22</td>\n",
       "      <td>deprived</td>\n",
       "      <td>1</td>\n",
       "      <td>4</td>\n",
       "      <td>2</td>\n",
       "    </tr>\n",
       "    <tr>\n",
       "      <th>26</th>\n",
       "      <td>31</td>\n",
       "      <td>25</td>\n",
       "      <td>deprived</td>\n",
       "      <td>1</td>\n",
       "      <td>3</td>\n",
       "      <td>2</td>\n",
       "    </tr>\n",
       "    <tr>\n",
       "      <th>27</th>\n",
       "      <td>32</td>\n",
       "      <td>27</td>\n",
       "      <td>deprived</td>\n",
       "      <td>1</td>\n",
       "      <td>3</td>\n",
       "      <td>2</td>\n",
       "    </tr>\n",
       "    <tr>\n",
       "      <th>28</th>\n",
       "      <td>34</td>\n",
       "      <td>25</td>\n",
       "      <td>deprived</td>\n",
       "      <td>1</td>\n",
       "      <td>4</td>\n",
       "      <td>2</td>\n",
       "    </tr>\n",
       "    <tr>\n",
       "      <th>29</th>\n",
       "      <td>35</td>\n",
       "      <td>25</td>\n",
       "      <td>deprived</td>\n",
       "      <td>0</td>\n",
       "      <td>2</td>\n",
       "      <td>0</td>\n",
       "    </tr>\n",
       "    <tr>\n",
       "      <th>30</th>\n",
       "      <td>36</td>\n",
       "      <td>22</td>\n",
       "      <td>deprived</td>\n",
       "      <td>0</td>\n",
       "      <td>6</td>\n",
       "      <td>1</td>\n",
       "    </tr>\n",
       "    <tr>\n",
       "      <th>31</th>\n",
       "      <td>38</td>\n",
       "      <td>28</td>\n",
       "      <td>deprived</td>\n",
       "      <td>0</td>\n",
       "      <td>3</td>\n",
       "      <td>0</td>\n",
       "    </tr>\n",
       "    <tr>\n",
       "      <th>32</th>\n",
       "      <td>40</td>\n",
       "      <td>24</td>\n",
       "      <td>deprived</td>\n",
       "      <td>0</td>\n",
       "      <td>4</td>\n",
       "      <td>0</td>\n",
       "    </tr>\n",
       "    <tr>\n",
       "      <th>33</th>\n",
       "      <td>41</td>\n",
       "      <td>22</td>\n",
       "      <td>deprived</td>\n",
       "      <td>1</td>\n",
       "      <td>2</td>\n",
       "      <td>2</td>\n",
       "    </tr>\n",
       "    <tr>\n",
       "      <th>34</th>\n",
       "      <td>44</td>\n",
       "      <td>22</td>\n",
       "      <td>deprived</td>\n",
       "      <td>0</td>\n",
       "      <td>2</td>\n",
       "      <td>1</td>\n",
       "    </tr>\n",
       "    <tr>\n",
       "      <th>35</th>\n",
       "      <td>45</td>\n",
       "      <td>26</td>\n",
       "      <td>deprived</td>\n",
       "      <td>0</td>\n",
       "      <td>2</td>\n",
       "      <td>1</td>\n",
       "    </tr>\n",
       "  </tbody>\n",
       "</table>\n",
       "</div>"
      ]
     },
     "metadata": {},
     "execution_count": 16
    }
   ],
   "metadata": {}
  },
  {
   "cell_type": "code",
   "execution_count": 82,
   "source": [
    "X_ = pd.DataFrame(sleep, columns=['gpa', 'passed_unit_tests', 'passed_asserts', 'tackled_user_stories'])\n",
    "X_['tests'] = X_['passed_unit_tests'] / X_['gpa']\n",
    "X_['asserts'] = X_['passed_asserts'] / X_['gpa']\n",
    "X_['user_stories'] = X_['tackled_user_stories'] / X_['gpa']\n",
    "features=['tests','asserts','user_stories']\n",
    "X = pd.DataFrame(X_, columns=features)\n",
    "X = pd.DataFrame(normalize(X), columns=features)\n",
    "y_ = sleep.sleep\n",
    "\n",
    "X.head()"
   ],
   "outputs": [
    {
     "output_type": "execute_result",
     "data": {
      "text/plain": [
       "      tests   asserts  user_stories\n",
       "0  0.539164  0.646997      0.539164\n",
       "1  0.267261  0.801784      0.534522\n",
       "2  0.667424  0.572078      0.476731\n",
       "3  0.487950  0.780720      0.390360\n",
       "4  0.565685  0.707107      0.424264"
      ],
      "text/html": [
       "<div>\n",
       "<style scoped>\n",
       "    .dataframe tbody tr th:only-of-type {\n",
       "        vertical-align: middle;\n",
       "    }\n",
       "\n",
       "    .dataframe tbody tr th {\n",
       "        vertical-align: top;\n",
       "    }\n",
       "\n",
       "    .dataframe thead th {\n",
       "        text-align: right;\n",
       "    }\n",
       "</style>\n",
       "<table border=\"1\" class=\"dataframe\">\n",
       "  <thead>\n",
       "    <tr style=\"text-align: right;\">\n",
       "      <th></th>\n",
       "      <th>tests</th>\n",
       "      <th>asserts</th>\n",
       "      <th>user_stories</th>\n",
       "    </tr>\n",
       "  </thead>\n",
       "  <tbody>\n",
       "    <tr>\n",
       "      <th>0</th>\n",
       "      <td>0.539164</td>\n",
       "      <td>0.646997</td>\n",
       "      <td>0.539164</td>\n",
       "    </tr>\n",
       "    <tr>\n",
       "      <th>1</th>\n",
       "      <td>0.267261</td>\n",
       "      <td>0.801784</td>\n",
       "      <td>0.534522</td>\n",
       "    </tr>\n",
       "    <tr>\n",
       "      <th>2</th>\n",
       "      <td>0.667424</td>\n",
       "      <td>0.572078</td>\n",
       "      <td>0.476731</td>\n",
       "    </tr>\n",
       "    <tr>\n",
       "      <th>3</th>\n",
       "      <td>0.487950</td>\n",
       "      <td>0.780720</td>\n",
       "      <td>0.390360</td>\n",
       "    </tr>\n",
       "    <tr>\n",
       "      <th>4</th>\n",
       "      <td>0.565685</td>\n",
       "      <td>0.707107</td>\n",
       "      <td>0.424264</td>\n",
       "    </tr>\n",
       "  </tbody>\n",
       "</table>\n",
       "</div>"
      ]
     },
     "metadata": {},
     "execution_count": 82
    }
   ],
   "metadata": {}
  },
  {
   "cell_type": "code",
   "execution_count": 33,
   "source": [
    "y = [0 if i == 'normal' else 1 for i in y_]\n",
    "print(y)"
   ],
   "outputs": [
    {
     "output_type": "stream",
     "name": "stdout",
     "text": [
      "[0, 0, 0, 0, 0, 0, 0, 0, 0, 0, 0, 0, 0, 0, 0, 0, 0, 0, 0, 0, 0, 1, 1, 1, 1, 1, 1, 1, 1, 1, 1, 1, 1, 1, 1, 1]\n"
     ]
    }
   ],
   "metadata": {}
  },
  {
   "cell_type": "code",
   "execution_count": 7,
   "source": [
    "plt.figure(figsize=(10, 10))  \n",
    "plt.title(\"Sleep dendrogram\")  \n",
    "dend = shc.dendrogram(shc.linkage(X, method='ward'))"
   ],
   "outputs": [
    {
     "output_type": "display_data",
     "data": {
      "text/plain": [
       "<Figure size 720x720 with 1 Axes>"
      ],
      "image/png": "[encoded data removed]"
     },
     "metadata": {
      "needs_background": "light"
     }
    }
   ],
   "metadata": {}
  },
  {
   "cell_type": "markdown",
   "source": [
    "# Clustering"
   ],
   "metadata": {}
  },
  {
   "cell_type": "code",
   "execution_count": 46,
   "source": [
    "cluster = AgglomerativeClustering(n_clusters=2, affinity='euclidean', linkage='ward')  \n",
    "labels_h = cluster.fit_predict(X)\n",
    "labels_h"
   ],
   "outputs": [
    {
     "output_type": "execute_result",
     "data": {
      "text/plain": [
       "array([0, 0, 0, 0, 0, 0, 0, 0, 0, 1, 0, 0, 0, 0, 1, 1, 0, 0, 1, 1, 0, 0,\n",
       "       0, 0, 1, 0, 0, 0, 0, 1, 1, 1, 1, 0, 1, 1])"
      ]
     },
     "metadata": {},
     "execution_count": 46
    }
   ],
   "metadata": {}
  },
  {
   "cell_type": "code",
   "execution_count": 47,
   "source": [
    "pair_confusion_matrix(y, labels_h)"
   ],
   "outputs": [
    {
     "output_type": "execute_result",
     "data": {
      "text/plain": [
       "array([[304, 326],\n",
       "       [272, 358]])"
      ]
     },
     "metadata": {},
     "execution_count": 47
    }
   ],
   "metadata": {}
  },
  {
   "cell_type": "code",
   "execution_count": 48,
   "source": [
    "homogeneity_score(y, labels_h)"
   ],
   "outputs": [
    {
     "output_type": "execute_result",
     "data": {
      "text/plain": [
       "0.04189195214748088"
      ]
     },
     "metadata": {},
     "execution_count": 48
    }
   ],
   "metadata": {}
  },
  {
   "cell_type": "code",
   "execution_count": 57,
   "source": [
    "kmeans = KMeans(n_clusters=2)\n",
    "kmeans.fit(X)\n",
    "labels_km = kmeans.predict(X)\n",
    "labels_km"
   ],
   "outputs": [
    {
     "output_type": "execute_result",
     "data": {
      "text/plain": [
       "array([0, 0, 0, 0, 0, 1, 0, 0, 0, 1, 0, 0, 0, 0, 1, 1, 0, 0, 1, 1, 0, 0,\n",
       "       0, 0, 1, 1, 0, 0, 1, 1, 1, 1, 1, 0, 1, 1], dtype=int32)"
      ]
     },
     "metadata": {},
     "execution_count": 57
    }
   ],
   "metadata": {}
  },
  {
   "cell_type": "code",
   "execution_count": 58,
   "source": [
    "pair_confusion_matrix(y, labels_km)"
   ],
   "outputs": [
    {
     "output_type": "execute_result",
     "data": {
      "text/plain": [
       "array([[342, 288],\n",
       "       [288, 342]])"
      ]
     },
     "metadata": {},
     "execution_count": 58
    }
   ],
   "metadata": {}
  },
  {
   "cell_type": "code",
   "execution_count": 59,
   "source": [
    "metrics.homogeneity_score(y, labels_km) #better"
   ],
   "outputs": [
    {
     "output_type": "execute_result",
     "data": {
      "text/plain": [
       "0.07329452045866312"
      ]
     },
     "metadata": {},
     "execution_count": 59
    }
   ],
   "metadata": {}
  },
  {
   "cell_type": "markdown",
   "source": [
    "# Inner metrics"
   ],
   "metadata": {}
  },
  {
   "cell_type": "code",
   "execution_count": 60,
   "source": [
    "# silhouette\n",
    "print('Silhouette metrics')\n",
    "print('KMeans: ', metrics.silhouette_score(X, labels_km, metric='euclidean'))\n",
    "print('Ward hierarchy: ', metrics.silhouette_score(X, labels_h, metric='euclidean'))"
   ],
   "outputs": [
    {
     "output_type": "stream",
     "name": "stdout",
     "text": [
      "Silhouette metrics\n",
      "KMeans:  0.5334081980342152\n",
      "Ward hierarchy:  0.5436987880363645\n"
     ]
    }
   ],
   "metadata": {}
  },
  {
   "cell_type": "code",
   "execution_count": 61,
   "source": [
    "# calinski-harabasz\n",
    "print('Calinski-Harabasz metrics')\n",
    "print('KMeans: ', metrics.calinski_harabasz_score(X, labels_km))\n",
    "print('Ward hierarchy: ', metrics.calinski_harabasz_score(X, labels_h))"
   ],
   "outputs": [
    {
     "output_type": "stream",
     "name": "stdout",
     "text": [
      "Calinski-Harabasz metrics\n",
      "KMeans:  60.17620091483149\n",
      "Ward hierarchy:  57.22753343601533\n"
     ]
    }
   ],
   "metadata": {}
  },
  {
   "cell_type": "markdown",
   "source": [
    "# Outer metrics"
   ],
   "metadata": {}
  },
  {
   "cell_type": "code",
   "execution_count": 67,
   "source": [
    "# jaccard\n",
    "print('Jaccard metrics')\n",
    "print('KMeans (avg=macro): ', metrics.jaccard_score(y, labels_km, average='macro'))\n",
    "print('Ward hierarchy (avg=macro): ', metrics.jaccard_score(y, labels_h, average='macro'))"
   ],
   "outputs": [
    {
     "output_type": "stream",
     "name": "stdout",
     "text": [
      "Jaccard metrics\n",
      "KMeans (avg=macro):  0.4920634920634921\n",
      "Ward hierarchy (avg=macro):  0.4508620689655172\n"
     ]
    }
   ],
   "metadata": {}
  },
  {
   "cell_type": "code",
   "execution_count": 69,
   "source": [
    "# rand\n",
    "print('Rand metrics')\n",
    "print('KMeans: ', metrics.cluster.rand_score(y, labels_km))\n",
    "print('Ward hierarchy: ', metrics.cluster.rand_score(y, labels_h))"
   ],
   "outputs": [
    {
     "output_type": "stream",
     "name": "stdout",
     "text": [
      "Rand metrics\n",
      "KMeans:  0.5428571428571428\n",
      "Ward hierarchy:  0.5253968253968254\n"
     ]
    }
   ],
   "metadata": {}
  },
  {
   "cell_type": "markdown",
   "source": [
    "# Plots"
   ],
   "metadata": {}
  },
  {
   "cell_type": "code",
   "execution_count": 93,
   "source": [
    "n_components=2\n",
    "pca = PCA(n_components=n_components)\n",
    "principalComponents = pca.fit_transform(X)\n",
    "principalDf = pd.DataFrame(data = principalComponents\n",
    "             , columns = ['PC1', 'PC2'])\n",
    "principalDf.head()"
   ],
   "outputs": [
    {
     "output_type": "execute_result",
     "data": {
      "text/plain": [
       "        PC1       PC2\n",
       "0  0.309869  0.015153\n",
       "1  0.025532  0.143851\n",
       "2  0.417091 -0.102248\n",
       "3  0.143682 -0.088890\n",
       "4  0.252743 -0.097520"
      ],
      "text/html": [
       "<div>\n",
       "<style scoped>\n",
       "    .dataframe tbody tr th:only-of-type {\n",
       "        vertical-align: middle;\n",
       "    }\n",
       "\n",
       "    .dataframe tbody tr th {\n",
       "        vertical-align: top;\n",
       "    }\n",
       "\n",
       "    .dataframe thead th {\n",
       "        text-align: right;\n",
       "    }\n",
       "</style>\n",
       "<table border=\"1\" class=\"dataframe\">\n",
       "  <thead>\n",
       "    <tr style=\"text-align: right;\">\n",
       "      <th></th>\n",
       "      <th>PC1</th>\n",
       "      <th>PC2</th>\n",
       "    </tr>\n",
       "  </thead>\n",
       "  <tbody>\n",
       "    <tr>\n",
       "      <th>0</th>\n",
       "      <td>0.309869</td>\n",
       "      <td>0.015153</td>\n",
       "    </tr>\n",
       "    <tr>\n",
       "      <th>1</th>\n",
       "      <td>0.025532</td>\n",
       "      <td>0.143851</td>\n",
       "    </tr>\n",
       "    <tr>\n",
       "      <th>2</th>\n",
       "      <td>0.417091</td>\n",
       "      <td>-0.102248</td>\n",
       "    </tr>\n",
       "    <tr>\n",
       "      <th>3</th>\n",
       "      <td>0.143682</td>\n",
       "      <td>-0.088890</td>\n",
       "    </tr>\n",
       "    <tr>\n",
       "      <th>4</th>\n",
       "      <td>0.252743</td>\n",
       "      <td>-0.097520</td>\n",
       "    </tr>\n",
       "  </tbody>\n",
       "</table>\n",
       "</div>"
      ]
     },
     "metadata": {},
     "execution_count": 93
    }
   ],
   "metadata": {}
  },
  {
   "cell_type": "code",
   "execution_count": 115,
   "source": [
    "colors = [\"green\", \"turquoise\"]\n",
    "\n",
    "for X in [principalComponents]:\n",
    "    plt.figure(figsize=(6,6))\n",
    "    for color, i, target_name in zip(colors, [0, 1], y_.unique()):\n",
    "        plt.scatter(\n",
    "            X[y_ == target_name, 0],\n",
    "            X[y_ == target_name, 1],\n",
    "            color=color,\n",
    "            lw=2,\n",
    "            label=target_name,\n",
    "        )\n",
    "\n",
    "    plt.title(\"PCA on actual sleep dataset\")\n",
    "    plt.legend(loc=\"best\", shadow=False, scatterpoints=1)\n",
    "\n",
    "plt.show()"
   ],
   "outputs": [
    {
     "output_type": "display_data",
     "data": {
      "text/plain": [
       "<Figure size 432x432 with 1 Axes>"
      ],
      "image/png": "[encoded data removed]"
     },
     "metadata": {
      "needs_background": "light"
     }
    }
   ],
   "metadata": {}
  },
  {
   "cell_type": "code",
   "execution_count": 119,
   "source": [
    "label_color_map = {0 : \"green\", 1 : \"turquoise\"}\n",
    "label_color = [label_color_map[l] for l in labels_km]\n",
    "X  = principalComponents\n",
    "\n",
    "plt.figure(figsize = (6,6))\n",
    "plt.scatter(X[:,0],X[:,1], c=label_color, alpha=0.5)\n",
    "plt.title(\"PCA on sleep dataset based on KMeans predictions\")\n",
    "plt.show()"
   ],
   "outputs": [
    {
     "output_type": "display_data",
     "data": {
      "text/plain": [
       "<Figure size 432x432 with 1 Axes>"
      ],
      "image/png": "[encoded data removed]"
     },
     "metadata": {
      "needs_background": "light"
     }
    }
   ],
   "metadata": {}
  },
  {
   "cell_type": "code",
   "execution_count": 120,
   "source": [
    "label_color_map = {0 : \"green\", 1 : \"turquoise\"}\n",
    "label_color = [label_color_map[l] for l in labels_h]\n",
    "X  = principalComponents\n",
    "\n",
    "plt.figure(figsize = (6,6))\n",
    "plt.scatter(X[:,0],X[:,1], c=label_color, alpha=0.5)\n",
    "plt.title(\"PCA on sleep dataset based on Hierarchical clustering predictions\")\n",
    "plt.show()"
   ],
   "outputs": [
    {
     "output_type": "display_data",
     "data": {
      "text/plain": [
       "<Figure size 432x432 with 1 Axes>"
      ],
      "image/png": "[encoded data removed]"
     },
     "metadata": {
      "needs_background": "light"
     }
    }
   ],
   "metadata": {}
  }
 ],
 "metadata": {
  "orig_nbformat": 4,
  "language_info": {
   "name": "python",
   "version": "3.9.7",
   "mimetype": "text/x-python",
   "codemirror_mode": {
    "name": "ipython",
    "version": 3
   },
   "pygments_lexer": "ipython3",
   "nbconvert_exporter": "python",
   "file_extension": ".py"
  },
  "kernelspec": {
   "name": "python3",
   "display_name": "Python 3.9.7 64-bit ('base': conda)"
  },
  "interpreter": {
   "hash": "41dad33ac27be026cb602e0a62f760d014741d4939993a4186ae922aa189125a"
  }
 },
 "nbformat": 4,
 "nbformat_minor": 2
}