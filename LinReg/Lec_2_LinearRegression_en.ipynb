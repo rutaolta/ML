{
 "cells": [
  {
   "cell_type": "markdown",
   "metadata": {
    "collapsed": true
   },
   "source": [
    "# Introduction to Machine Learning\n",
    "\n",
    "## High School of Digital Culture\n",
    "\n",
    "## Additional Materials to Module 2. Linear Regression"
   ]
  },
  {
   "cell_type": "markdown",
   "metadata": {},
   "source": [
    "### Examples "
   ]
  },
  {
   "cell_type": "code",
   "execution_count": 3,
   "metadata": {},
   "outputs": [],
   "source": [
    "#Data reading; unique names of candies will be indexes\n",
    "import pandas as pd\n",
    "DATA = pd.read_csv(\"candy-data.csv\", delimiter=',', index_col='competitorname')"
   ]
  },
  {
   "cell_type": "code",
   "execution_count": 4,
   "metadata": {},
   "outputs": [
    {
     "data": {
      "text/plain": "                       chocolate  fruity  caramel  peanutyalmondy  nougat  \\\ncompetitorname                                                              \n100 Grand                      1       0        1               0       0   \n3 Musketeers                   1       0        0               0       1   \nOne dime                       0       0        0               0       0   \nOne quarter                    0       0        0               0       0   \nAir Heads                      0       1        0               0       0   \n...                          ...     ...      ...             ...     ...   \nSnickers Crisper               1       0        1               1       0   \nSour Patch Kids                0       1        0               0       0   \nSour Patch Tricksters          0       1        0               0       0   \nStarburst                      0       1        0               0       0   \nStrawberry bon bons            0       1        0               0       0   \n\n                       crispedricewafer  hard  bar  pluribus  sugarpercent  \\\ncompetitorname                                                               \n100 Grand                             1     0    1         0         0.732   \n3 Musketeers                          0     0    1         0         0.604   \nOne dime                              0     0    0         0         0.011   \nOne quarter                           0     0    0         0         0.011   \nAir Heads                             0     0    0         0         0.906   \n...                                 ...   ...  ...       ...           ...   \nSnickers Crisper                      1     0    1         0         0.604   \nSour Patch Kids                       0     0    0         1         0.069   \nSour Patch Tricksters                 0     0    0         1         0.069   \nStarburst                             0     0    0         1         0.151   \nStrawberry bon bons                   0     1    0         1         0.569   \n\n                       pricepercent  winpercent  Y  \ncompetitorname                                      \n100 Grand                     0.860   66.971725  1  \n3 Musketeers                  0.511   67.602936  1  \nOne dime                      0.116   32.261086  0  \nOne quarter                   0.511   46.116505  0  \nAir Heads                     0.511   52.341465  1  \n...                             ...         ... ..  \nSnickers Crisper              0.651   59.529251  1  \nSour Patch Kids               0.116   59.863998  1  \nSour Patch Tricksters         0.116   52.825947  1  \nStarburst                     0.220   67.037628  1  \nStrawberry bon bons           0.058   34.578991  0  \n\n[70 rows x 13 columns]",
      "text/html": "<div>\n<style scoped>\n    .dataframe tbody tr th:only-of-type {\n        vertical-align: middle;\n    }\n\n    .dataframe tbody tr th {\n        vertical-align: top;\n    }\n\n    .dataframe thead th {\n        text-align: right;\n    }\n</style>\n<table border=\"1\" class=\"dataframe\">\n  <thead>\n    <tr style=\"text-align: right;\">\n      <th></th>\n      <th>chocolate</th>\n      <th>fruity</th>\n      <th>caramel</th>\n      <th>peanutyalmondy</th>\n      <th>nougat</th>\n      <th>crispedricewafer</th>\n      <th>hard</th>\n      <th>bar</th>\n      <th>pluribus</th>\n      <th>sugarpercent</th>\n      <th>pricepercent</th>\n      <th>winpercent</th>\n      <th>Y</th>\n    </tr>\n    <tr>\n      <th>competitorname</th>\n      <th></th>\n      <th></th>\n      <th></th>\n      <th></th>\n      <th></th>\n      <th></th>\n      <th></th>\n      <th></th>\n      <th></th>\n      <th></th>\n      <th></th>\n      <th></th>\n      <th></th>\n    </tr>\n  </thead>\n  <tbody>\n    <tr>\n      <th>100 Grand</th>\n      <td>1</td>\n      <td>0</td>\n      <td>1</td>\n      <td>0</td>\n      <td>0</td>\n      <td>1</td>\n      <td>0</td>\n      <td>1</td>\n      <td>0</td>\n      <td>0.732</td>\n      <td>0.860</td>\n      <td>66.971725</td>\n      <td>1</td>\n    </tr>\n    <tr>\n      <th>3 Musketeers</th>\n      <td>1</td>\n      <td>0</td>\n      <td>0</td>\n      <td>0</td>\n      <td>1</td>\n      <td>0</td>\n      <td>0</td>\n      <td>1</td>\n      <td>0</td>\n      <td>0.604</td>\n      <td>0.511</td>\n      <td>67.602936</td>\n      <td>1</td>\n    </tr>\n    <tr>\n      <th>One dime</th>\n      <td>0</td>\n      <td>0</td>\n      <td>0</td>\n      <td>0</td>\n      <td>0</td>\n      <td>0</td>\n      <td>0</td>\n      <td>0</td>\n      <td>0</td>\n      <td>0.011</td>\n      <td>0.116</td>\n      <td>32.261086</td>\n      <td>0</td>\n    </tr>\n    <tr>\n      <th>One quarter</th>\n      <td>0</td>\n      <td>0</td>\n      <td>0</td>\n      <td>0</td>\n      <td>0</td>\n      <td>0</td>\n      <td>0</td>\n      <td>0</td>\n      <td>0</td>\n      <td>0.011</td>\n      <td>0.511</td>\n      <td>46.116505</td>\n      <td>0</td>\n    </tr>\n    <tr>\n      <th>Air Heads</th>\n      <td>0</td>\n      <td>1</td>\n      <td>0</td>\n      <td>0</td>\n      <td>0</td>\n      <td>0</td>\n      <td>0</td>\n      <td>0</td>\n      <td>0</td>\n      <td>0.906</td>\n      <td>0.511</td>\n      <td>52.341465</td>\n      <td>1</td>\n    </tr>\n    <tr>\n      <th>...</th>\n      <td>...</td>\n      <td>...</td>\n      <td>...</td>\n      <td>...</td>\n      <td>...</td>\n      <td>...</td>\n      <td>...</td>\n      <td>...</td>\n      <td>...</td>\n      <td>...</td>\n      <td>...</td>\n      <td>...</td>\n      <td>...</td>\n    </tr>\n    <tr>\n      <th>Snickers Crisper</th>\n      <td>1</td>\n      <td>0</td>\n      <td>1</td>\n      <td>1</td>\n      <td>0</td>\n      <td>1</td>\n      <td>0</td>\n      <td>1</td>\n      <td>0</td>\n      <td>0.604</td>\n      <td>0.651</td>\n      <td>59.529251</td>\n      <td>1</td>\n    </tr>\n    <tr>\n      <th>Sour Patch Kids</th>\n      <td>0</td>\n      <td>1</td>\n      <td>0</td>\n      <td>0</td>\n      <td>0</td>\n      <td>0</td>\n      <td>0</td>\n      <td>0</td>\n      <td>1</td>\n      <td>0.069</td>\n      <td>0.116</td>\n      <td>59.863998</td>\n      <td>1</td>\n    </tr>\n    <tr>\n      <th>Sour Patch Tricksters</th>\n      <td>0</td>\n      <td>1</td>\n      <td>0</td>\n      <td>0</td>\n      <td>0</td>\n      <td>0</td>\n      <td>0</td>\n      <td>0</td>\n      <td>1</td>\n      <td>0.069</td>\n      <td>0.116</td>\n      <td>52.825947</td>\n      <td>1</td>\n    </tr>\n    <tr>\n      <th>Starburst</th>\n      <td>0</td>\n      <td>1</td>\n      <td>0</td>\n      <td>0</td>\n      <td>0</td>\n      <td>0</td>\n      <td>0</td>\n      <td>0</td>\n      <td>1</td>\n      <td>0.151</td>\n      <td>0.220</td>\n      <td>67.037628</td>\n      <td>1</td>\n    </tr>\n    <tr>\n      <th>Strawberry bon bons</th>\n      <td>0</td>\n      <td>1</td>\n      <td>0</td>\n      <td>0</td>\n      <td>0</td>\n      <td>0</td>\n      <td>1</td>\n      <td>0</td>\n      <td>1</td>\n      <td>0.569</td>\n      <td>0.058</td>\n      <td>34.578991</td>\n      <td>0</td>\n    </tr>\n  </tbody>\n</table>\n<p>70 rows × 13 columns</p>\n</div>"
     },
     "execution_count": 4,
     "metadata": {},
     "output_type": "execute_result"
    }
   ],
   "source": [
    "DATA"
   ]
  },
  {
   "cell_type": "code",
   "execution_count": 5,
   "metadata": {},
   "outputs": [],
   "source": [
    "#Feeding the model with data (except for some candies)\n",
    "train_data = DATA.drop(['Boston Baked Beans', 'Peanut M&Ms'])"
   ]
  },
  {
   "cell_type": "code",
   "execution_count": 6,
   "metadata": {},
   "outputs": [
    {
     "data": {
      "text/plain": "                       chocolate  fruity  caramel  peanutyalmondy  nougat  \\\ncompetitorname                                                              \n100 Grand                      1       0        1               0       0   \n3 Musketeers                   1       0        0               0       1   \nOne dime                       0       0        0               0       0   \nOne quarter                    0       0        0               0       0   \nAir Heads                      0       1        0               0       0   \n...                          ...     ...      ...             ...     ...   \nSnickers Crisper               1       0        1               1       0   \nSour Patch Kids                0       1        0               0       0   \nSour Patch Tricksters          0       1        0               0       0   \nStarburst                      0       1        0               0       0   \nStrawberry bon bons            0       1        0               0       0   \n\n                       crispedricewafer  hard  bar  pluribus  sugarpercent  \\\ncompetitorname                                                               \n100 Grand                             1     0    1         0         0.732   \n3 Musketeers                          0     0    1         0         0.604   \nOne dime                              0     0    0         0         0.011   \nOne quarter                           0     0    0         0         0.011   \nAir Heads                             0     0    0         0         0.906   \n...                                 ...   ...  ...       ...           ...   \nSnickers Crisper                      1     0    1         0         0.604   \nSour Patch Kids                       0     0    0         1         0.069   \nSour Patch Tricksters                 0     0    0         1         0.069   \nStarburst                             0     0    0         1         0.151   \nStrawberry bon bons                   0     1    0         1         0.569   \n\n                       pricepercent  winpercent  Y  \ncompetitorname                                      \n100 Grand                     0.860   66.971725  1  \n3 Musketeers                  0.511   67.602936  1  \nOne dime                      0.116   32.261086  0  \nOne quarter                   0.511   46.116505  0  \nAir Heads                     0.511   52.341465  1  \n...                             ...         ... ..  \nSnickers Crisper              0.651   59.529251  1  \nSour Patch Kids               0.116   59.863998  1  \nSour Patch Tricksters         0.116   52.825947  1  \nStarburst                     0.220   67.037628  1  \nStrawberry bon bons           0.058   34.578991  0  \n\n[68 rows x 13 columns]",
      "text/html": "<div>\n<style scoped>\n    .dataframe tbody tr th:only-of-type {\n        vertical-align: middle;\n    }\n\n    .dataframe tbody tr th {\n        vertical-align: top;\n    }\n\n    .dataframe thead th {\n        text-align: right;\n    }\n</style>\n<table border=\"1\" class=\"dataframe\">\n  <thead>\n    <tr style=\"text-align: right;\">\n      <th></th>\n      <th>chocolate</th>\n      <th>fruity</th>\n      <th>caramel</th>\n      <th>peanutyalmondy</th>\n      <th>nougat</th>\n      <th>crispedricewafer</th>\n      <th>hard</th>\n      <th>bar</th>\n      <th>pluribus</th>\n      <th>sugarpercent</th>\n      <th>pricepercent</th>\n      <th>winpercent</th>\n      <th>Y</th>\n    </tr>\n    <tr>\n      <th>competitorname</th>\n      <th></th>\n      <th></th>\n      <th></th>\n      <th></th>\n      <th></th>\n      <th></th>\n      <th></th>\n      <th></th>\n      <th></th>\n      <th></th>\n      <th></th>\n      <th></th>\n      <th></th>\n    </tr>\n  </thead>\n  <tbody>\n    <tr>\n      <th>100 Grand</th>\n      <td>1</td>\n      <td>0</td>\n      <td>1</td>\n      <td>0</td>\n      <td>0</td>\n      <td>1</td>\n      <td>0</td>\n      <td>1</td>\n      <td>0</td>\n      <td>0.732</td>\n      <td>0.860</td>\n      <td>66.971725</td>\n      <td>1</td>\n    </tr>\n    <tr>\n      <th>3 Musketeers</th>\n      <td>1</td>\n      <td>0</td>\n      <td>0</td>\n      <td>0</td>\n      <td>1</td>\n      <td>0</td>\n      <td>0</td>\n      <td>1</td>\n      <td>0</td>\n      <td>0.604</td>\n      <td>0.511</td>\n      <td>67.602936</td>\n      <td>1</td>\n    </tr>\n    <tr>\n      <th>One dime</th>\n      <td>0</td>\n      <td>0</td>\n      <td>0</td>\n      <td>0</td>\n      <td>0</td>\n      <td>0</td>\n      <td>0</td>\n      <td>0</td>\n      <td>0</td>\n      <td>0.011</td>\n      <td>0.116</td>\n      <td>32.261086</td>\n      <td>0</td>\n    </tr>\n    <tr>\n      <th>One quarter</th>\n      <td>0</td>\n      <td>0</td>\n      <td>0</td>\n      <td>0</td>\n      <td>0</td>\n      <td>0</td>\n      <td>0</td>\n      <td>0</td>\n      <td>0</td>\n      <td>0.011</td>\n      <td>0.511</td>\n      <td>46.116505</td>\n      <td>0</td>\n    </tr>\n    <tr>\n      <th>Air Heads</th>\n      <td>0</td>\n      <td>1</td>\n      <td>0</td>\n      <td>0</td>\n      <td>0</td>\n      <td>0</td>\n      <td>0</td>\n      <td>0</td>\n      <td>0</td>\n      <td>0.906</td>\n      <td>0.511</td>\n      <td>52.341465</td>\n      <td>1</td>\n    </tr>\n    <tr>\n      <th>...</th>\n      <td>...</td>\n      <td>...</td>\n      <td>...</td>\n      <td>...</td>\n      <td>...</td>\n      <td>...</td>\n      <td>...</td>\n      <td>...</td>\n      <td>...</td>\n      <td>...</td>\n      <td>...</td>\n      <td>...</td>\n      <td>...</td>\n    </tr>\n    <tr>\n      <th>Snickers Crisper</th>\n      <td>1</td>\n      <td>0</td>\n      <td>1</td>\n      <td>1</td>\n      <td>0</td>\n      <td>1</td>\n      <td>0</td>\n      <td>1</td>\n      <td>0</td>\n      <td>0.604</td>\n      <td>0.651</td>\n      <td>59.529251</td>\n      <td>1</td>\n    </tr>\n    <tr>\n      <th>Sour Patch Kids</th>\n      <td>0</td>\n      <td>1</td>\n      <td>0</td>\n      <td>0</td>\n      <td>0</td>\n      <td>0</td>\n      <td>0</td>\n      <td>0</td>\n      <td>1</td>\n      <td>0.069</td>\n      <td>0.116</td>\n      <td>59.863998</td>\n      <td>1</td>\n    </tr>\n    <tr>\n      <th>Sour Patch Tricksters</th>\n      <td>0</td>\n      <td>1</td>\n      <td>0</td>\n      <td>0</td>\n      <td>0</td>\n      <td>0</td>\n      <td>0</td>\n      <td>0</td>\n      <td>1</td>\n      <td>0.069</td>\n      <td>0.116</td>\n      <td>52.825947</td>\n      <td>1</td>\n    </tr>\n    <tr>\n      <th>Starburst</th>\n      <td>0</td>\n      <td>1</td>\n      <td>0</td>\n      <td>0</td>\n      <td>0</td>\n      <td>0</td>\n      <td>0</td>\n      <td>0</td>\n      <td>1</td>\n      <td>0.151</td>\n      <td>0.220</td>\n      <td>67.037628</td>\n      <td>1</td>\n    </tr>\n    <tr>\n      <th>Strawberry bon bons</th>\n      <td>0</td>\n      <td>1</td>\n      <td>0</td>\n      <td>0</td>\n      <td>0</td>\n      <td>0</td>\n      <td>1</td>\n      <td>0</td>\n      <td>1</td>\n      <td>0.569</td>\n      <td>0.058</td>\n      <td>34.578991</td>\n      <td>0</td>\n    </tr>\n  </tbody>\n</table>\n<p>68 rows × 13 columns</p>\n</div>"
     },
     "execution_count": 6,
     "metadata": {},
     "output_type": "execute_result"
    }
   ],
   "source": [
    "train_data"
   ]
  },
  {
   "cell_type": "code",
   "execution_count": 7,
   "metadata": {},
   "outputs": [],
   "source": [
    "#Selecting the data for predictors and deleting the two last columns. The indexes are not included in the data\n",
    "X = pd.DataFrame(train_data.drop(['winpercent', 'Y'], axis=1))"
   ]
  },
  {
   "cell_type": "code",
   "execution_count": 8,
   "metadata": {},
   "outputs": [],
   "source": [
    "#Selecting the response column\n",
    "y = pd.DataFrame(train_data['winpercent'])"
   ]
  },
  {
   "cell_type": "code",
   "execution_count": 9,
   "metadata": {},
   "outputs": [],
   "source": [
    "#Connecting the linear regression model from sklearn library\n",
    "from sklearn.linear_model import LinearRegression"
   ]
  },
  {
   "cell_type": "code",
   "execution_count": 10,
   "metadata": {},
   "outputs": [],
   "source": [
    "#Model training\n",
    "reg = LinearRegression().fit(X, y)"
   ]
  },
  {
   "cell_type": "code",
   "execution_count": 11,
   "metadata": {},
   "outputs": [
    {
     "data": {
      "text/plain": "array([[92.06541738]])"
     },
     "execution_count": 11,
     "metadata": {},
     "output_type": "execute_result"
    }
   ],
   "source": [
    "#Prediction for the candies entered manually\n",
    "reg.predict([[1, 1, 1, 1, 1, 1, 0, 0, 0, 0.261, 0.273]])\n",
    "#reg.predict([[1, 1, 1, 1, 1, 1, 1, 1, 1, 1, 1]])"
   ]
  },
  {
   "cell_type": "code",
   "execution_count": 12,
   "metadata": {},
   "outputs": [
    {
     "data": {
      "text/plain": "array([[44.00469576]])"
     },
     "execution_count": 12,
     "metadata": {},
     "output_type": "execute_result"
    }
   ],
   "source": [
    "#Prediction for the candies from the table\n",
    "\n",
    "#Selecting the row from the table\n",
    "BostonBakedBeans = DATA.loc['Boston Baked Beans',:].to_frame().T\n",
    "\n",
    "#Selecting the data for predictors and predicting using the model\n",
    "reg.predict(BostonBakedBeans.drop(['winpercent', 'Y'], axis=1))"
   ]
  },
  {
   "cell_type": "code",
   "execution_count": 13,
   "metadata": {},
   "outputs": [
    {
     "data": {
      "text/plain": "array([[68.48757158]])"
     },
     "execution_count": 13,
     "metadata": {},
     "output_type": "execute_result"
    }
   ],
   "source": [
    "#Prediction for the candies from the table\n",
    "\n",
    "#Selecting the row from the table\n",
    "PeanutMMs = DATA.loc['Peanut M&Ms',:].to_frame().T\n",
    "\n",
    "#Selecting the data for predictors and predicting using the model\n",
    "reg.predict(PeanutMMs.drop(['winpercent', 'Y'], axis=1))"
   ]
  },
  {
   "cell_type": "markdown",
   "metadata": {},
   "source": [
    "The value of coefficient $\\theta_0$:"
   ]
  },
  {
   "cell_type": "code",
   "execution_count": 14,
   "metadata": {},
   "outputs": [
    {
     "data": {
      "text/plain": "array([38.01368257])"
     },
     "execution_count": 14,
     "metadata": {},
     "output_type": "execute_result"
    }
   ],
   "source": [
    "reg.intercept_"
   ]
  },
  {
   "cell_type": "markdown",
   "metadata": {},
   "source": [
    "The values of coefficients $\\theta_1, \\ldots, \\theta_p$:"
   ]
  },
  {
   "cell_type": "code",
   "execution_count": 15,
   "metadata": {},
   "outputs": [
    {
     "data": {
      "text/plain": "array([[22.6797732 ,  8.65171652, -1.58331771,  9.84649224,  3.2893101 ,\n        10.69061568, -7.68441301, -5.15406893, -2.87685985, 10.66282799,\n        -8.44634916]])"
     },
     "execution_count": 15,
     "metadata": {},
     "output_type": "execute_result"
    }
   ],
   "source": [
    "reg.coef_"
   ]
  }
 ],
 "metadata": {
  "kernelspec": {
   "display_name": "Python 3",
   "language": "python",
   "name": "python3"
  },
  "language_info": {
   "codemirror_mode": {
    "name": "ipython",
    "version": 3
   },
   "file_extension": ".py",
   "mimetype": "text/x-python",
   "name": "python",
   "nbconvert_exporter": "python",
   "pygments_lexer": "ipython3",
   "version": "3.9.1"
  }
 },
 "nbformat": 4,
 "nbformat_minor": 2
}