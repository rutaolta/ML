{
 "cells": [
  {
   "cell_type": "markdown",
   "source": [
    "# imports"
   ],
   "metadata": {}
  },
  {
   "cell_type": "code",
   "execution_count": 15,
   "source": [
    "import numpy as np\n",
    "import pandas as pd\n",
    "import math\n",
    "import seaborn as sns\n",
    "from sklearn import metrics\n",
    "from sklearn.metrics import classification_report\n",
    "from sklearn.metrics import f1_score, make_scorer\n",
    "from sklearn.manifold import TSNE\n",
    "from sklearn.model_selection import GridSearchCV, cross_val_score\n",
    "from sklearn.preprocessing import MinMaxScaler\n",
    "from sklearn.neighbors import KNeighborsRegressor\n",
    "import matplotlib.pyplot as plt\n",
    "from sklearn.preprocessing import OneHotEncoder, LabelEncoder\n",
    "from sklearn.metrics import mean_squared_error, r2_score\n",
    "from sklearn.preprocessing import normalize\n",
    "from sklearn.model_selection import train_test_split\n",
    "from sklearn.model_selection import LeaveOneOut\n",
    "\n",
    "import warnings\n",
    "warnings.filterwarnings('ignore')"
   ],
   "outputs": [],
   "metadata": {}
  },
  {
   "cell_type": "markdown",
   "source": [
    "# Dataset\n",
    "\n",
    "Choose any dataset you like for the classification task on openml.org. \n",
    "\n",
    "The selected data set must contain at least 100 objects and at least three classes. \n",
    "\n",
    "Remember to vectorize the attributes of your data set (move from categories to numbers), fill in the blanks (if any), and normalize.\n",
    "\n",
    "# Reduction to the regression problem\n",
    "\n",
    "Go from the classification task to the regression task in two different ways:\n",
    "\n",
    "1. The naive way. \n",
    "\n",
    "Each class value is represented by a single number. \n",
    "During the prediction, the response received is rounded to the nearest integer.\n",
    "\n",
    "2. Using OneHot encoding.\n",
    "\n",
    "Instead of a single target attribute, as many new numerical variables are added to the dataset as there are classes in it.\n",
    "\n",
    "\n",
    "# Hyperparameter tuning\n",
    "\n",
    "For each of the transforms (naïve and one-hot), find the best combination of distance, kernel functions and window (fixed and neighbor-dependent) for the nearest neighbor method. \n",
    "\n",
    "For the best transform and combination found, plot the F-measure as a function of the number of nearest neighbors or the width of the window (dependent on the type of the window). \n",
    "\n",
    "Use the Leave-One-Out cross-validation to calculate the F-measure."
   ],
   "metadata": {}
  },
  {
   "cell_type": "markdown",
   "source": [
    "# parameters"
   ],
   "metadata": {}
  },
  {
   "cell_type": "code",
   "execution_count": 58,
   "source": [
    "parameters = {\"n_neighbors\": range(1, 11),\n",
    "              \"weights\": ['uniform', 'distance'],\n",
    "              \"metric\": ['euclidean','minkowski','mahalanobis','seuclidean']\n",
    "              }\n",
    "test_size = .01"
   ],
   "outputs": [],
   "metadata": {}
  },
  {
   "cell_type": "markdown",
   "source": [
    "# Common functions"
   ],
   "metadata": {}
  },
  {
   "cell_type": "code",
   "execution_count": 17,
   "source": [
    "# devide data into X,y and one-hot trasformation\n",
    "def get_data(df, one_hot=False):\n",
    "    X = df.loc[:, ~df.columns.isin(['Class'])]\n",
    "    y = df['Class']\n",
    "    X = MinMaxScaler().fit_transform(X=X)\n",
    "    if one_hot:\n",
    "        encoder = OneHotEncoder(categories='auto')\n",
    "        dfonehot = pd.DataFrame(encoder.fit_transform(df['Class'].values.reshape(-1, 1)).toarray())\n",
    "        X = np.concatenate([X, dfonehot.values], axis=1)\n",
    "    return X, y"
   ],
   "outputs": [],
   "metadata": {}
  },
  {
   "cell_type": "code",
   "execution_count": 18,
   "source": [
    "# plot tsne on input raw or one-hot transformed data\n",
    "def display_tsne(X, y):\n",
    "    tsne = TSNE()\n",
    "    Y = tsne.fit_transform(X)\n",
    "    sns.scatterplot(Y[:, 0], Y[:, 1], hue=y, legend='full')\n",
    "    plt.show()"
   ],
   "outputs": [],
   "metadata": {}
  },
  {
   "cell_type": "code",
   "execution_count": 61,
   "source": [
    "# depricated!\n",
    "def plot_f1_measures(df, weights, metric, one_hot=False):\n",
    "\n",
    "    X, y = get_data(df, one_hot)\n",
    "    X_train, X_test, y_train, y_test = train_test_split(X, y, test_size=test_size)\n",
    "\n",
    "    k_range = range(1, 11)\n",
    "    knn = KNeighborsRegressor()\n",
    "    loo=LeaveOneOut()\n",
    "    f1 = make_scorer(f1_score, average='macro')\n",
    "\n",
    "    f1_scores = []\n",
    "    for k in k_range:\n",
    "        param_grid = [{'n_neighbors': [k], 'weights': [weights], 'metric': [metric]}]\n",
    "        grid = GridSearchCV(knn, param_grid, cv=loo, scoring=f1)\n",
    "        grid.fit(X_train, y_train)\n",
    "        \n",
    "        # y_pred = grid.predict(X_test)\n",
    "        # print('best_score_', grid.best_score_)\n",
    "        f1_scores.append(grid.best_score_)\n",
    "        # print(grid.cv_results_)\n",
    "\n",
    "        # f1_scores.append(f1_score(y_test, y_pred, average='samples'))\n",
    "        # print(f1_scores)\n",
    "        # f1_scores.append(scores.mean())\n",
    "        # print(k_scores)\n",
    "        grid_mean_scores = [result.mean_validation_score for result in grid.cv_results_]\n",
    "        print(grid_mean_scores)\n",
    "        \n",
    "    data = {\"f1_score\": f1_scores}\n",
    "    sns.lineplot(data=data, x=k_range, y=grid.best_score_)\n",
    "    plt.xlabel('Value of K for KNeighborsRegressor')\n",
    "    plt.ylabel('LOO Cross-Validated f1-score')\n",
    "    plt.show()\n",
    "\n",
    "    # for n in k:\n",
    "    #     algorithm = KNeighborsRegressor()\n",
    "    #     candidates = [{'n_neighbors': [n], 'weights': [weights], 'metric': [metric]}]\n",
    "    #     loo=LeaveOneOut()\n",
    "    #     grid = GridSearchCV(estimator=algorithm, param_grid=candidates, cv=loo) \n",
    "    #     grid.fit(X_train, y_train)\n",
    "\n",
    "    #     pred = grid.predict(X_test)\n",
    "    #     f1_scores.append(f1_score(y_test, [int(x) for x in pred], average='weighted'))\n",
    "\n",
    "    #     # loo = LeaveOneOut()\n",
    "    #     # for train, test in loo.split(df):\n",
    "    #     #     X_train, y_train = get_data(train, one_hot)\n",
    "    #     #     X_test, y_test = get_data(test, one_hot)\n",
    "    #     #     clf = KNeighborsRegressor(n_neighbors=n, weights=weights, metric=metric)\n",
    "    #     #     clf.fit(X_train, y_train)\n",
    "    #     #     pred = clf.predict(X_test)\n",
    "\n",
    "    #     #     f1_scores.append(f1_score(y_test, [int(x) for x in pred], average='weighted'))\n",
    "    # data = {\"f1_score\": f1_scores}\n",
    "    # sns.lineplot(data=data, x=k, y=f1_scores)\n",
    "    # plt.show()"
   ],
   "outputs": [],
   "metadata": {}
  },
  {
   "cell_type": "code",
   "execution_count": 127,
   "source": [
    "# get loo based f1-score and plot the f1-score with variant neighbors count and fixed best hyperparameters\n",
    "def plot_loo_f1_measures(df, weights, metric, one_hot=False):\n",
    "\n",
    "    X, y = get_data(df, one_hot)\n",
    "\n",
    "    k_range = range(1, 11)\n",
    "    knn = KNeighborsRegressor()\n",
    "    loo=LeaveOneOut()\n",
    "    data = []\n",
    "\n",
    "    for k in k_range:\n",
    "        f1_scores = []\n",
    "        for train_index, test_index in loo.split(X):\n",
    "            X_train, X_test = X[train_index], X[test_index]\n",
    "            y_train = y[train_index]\n",
    "            y_test = y[test_index]\n",
    "\n",
    "            param_grid = [{'n_neighbors': [k], 'weights': [weights], 'metric': [metric]}]\n",
    "            grid = GridSearchCV(knn, param_grid)\n",
    "            grid.fit(X_train, y_train)\n",
    "            \n",
    "            y_pred = grid.predict(X_test)\n",
    "            f1 = f1_score([y_test], [y_pred], average='macro')\n",
    "            f1_scores.append(f1)\n",
    "        data.append(np.mean(f1_scores))\n",
    "\n",
    "    dataf = {\"f1_score\": data}\n",
    "    sns.lineplot(data=dataf, x=k_range, y=data)\n",
    "    plt.xlabel('Value of K for KNeighborsRegressor')\n",
    "    plt.ylabel('LOO Cross-Validated f1-score')\n",
    "    plt.show()\n"
   ],
   "outputs": [],
   "metadata": {}
  },
  {
   "cell_type": "markdown",
   "source": [
    "# Naive"
   ],
   "metadata": {}
  },
  {
   "cell_type": "code",
   "execution_count": 20,
   "source": [
    "# naive algorithm for fixed neighbors count and fixed hyperparameters\n",
    "def naive(df, k=3):\n",
    "    X, y = get_data(df)\n",
    "    X_train, X_test, y_train, y_test = train_test_split(X, y, test_size=test_size)\n",
    "    print(\"train size: \", X_train.shape)\n",
    "    print(\"test size: \", X_test.shape, \"\\n\")\n",
    "    \n",
    "    clf = KNeighborsRegressor(n_neighbors=k)\n",
    "\n",
    "    clf.fit(X_train, y_train)\n",
    "    pred = [int(x) for x in clf.predict(X_test)]\n",
    "    print(f\"Predicted class: {pred} (check {y_test.values})\")\n",
    "    print(f\"Score {clf.score(X_test, y_test)}\")\n",
    "    print('Mean squared error: %.2f'\n",
    "          % mean_squared_error(y_test, pred))\n",
    "    # The coefficient of determination: 1 is perfect prediction\n",
    "    print('Coefficient of determination: %.2f'\n",
    "          % r2_score(y_test, pred))"
   ],
   "outputs": [],
   "metadata": {}
  },
  {
   "cell_type": "code",
   "execution_count": 128,
   "source": [
    "# naive algorithm for variant neighbors count and variant hyperparameters with plots\n",
    "def naive_with_hyperparameters_tuning(df):\n",
    "    X, y = get_data(df)\n",
    "    X_train, X_test, y_train, y_test = train_test_split(X, y, test_size=test_size)\n",
    "\n",
    "    gridsearch = GridSearchCV(KNeighborsRegressor(), parameters) #, verbose=3\n",
    "    gridsearch.fit(X_train, y_train)\n",
    "    print(f\"Best parameters {gridsearch.best_params_}\")\n",
    "\n",
    "    best_metric = gridsearch.best_params_['metric']\n",
    "    best_weights = gridsearch.best_params_['weights']\n",
    "\n",
    "    train_mse = mean_squared_error(y_train, gridsearch.predict(X_train))\n",
    "    train_rmse = math.sqrt(train_mse)\n",
    "    print(f\"Train rmse {train_rmse}\")\n",
    "    test_preds_grid = gridsearch.predict(X_test)\n",
    "    test_mse = mean_squared_error(y_test, test_preds_grid)\n",
    "    test_rmse = math.sqrt(test_mse)\n",
    "    print(f\"Test rmse {test_rmse}\")\n",
    "    print(f\"F measure {f1_score(y_test, [int(x) for x in test_preds_grid], average='weighted')}\")\n",
    "    print(classification_report(y_test, test_preds_grid.astype(\"int8\")))\n",
    "    display_tsne(X, y)\n",
    "    plot_loo_f1_measures(df, best_weights, best_metric, one_hot=False)"
   ],
   "outputs": [],
   "metadata": {}
  },
  {
   "cell_type": "code",
   "execution_count": 22,
   "source": [
    "df = pd.read_csv(\"php44ZCDh.csv\")\n",
    "print(\"Dataset size:\", df.shape)"
   ],
   "outputs": [
    {
     "output_type": "stream",
     "name": "stdout",
     "text": [
      "Dataset size: (117, 91)\n"
     ]
    }
   ],
   "metadata": {}
  },
  {
   "cell_type": "code",
   "execution_count": 23,
   "source": [
    "naive(df, k=1)"
   ],
   "outputs": [
    {
     "output_type": "stream",
     "name": "stdout",
     "text": [
      "train size:  (115, 90)\n",
      "test size:  (2, 90) \n",
      "\n",
      "Predicted class: [2, 1] (check [2 1])\n",
      "Score 1.0\n",
      "Mean squared error: 0.00\n",
      "Coefficient of determination: 1.00\n"
     ]
    }
   ],
   "metadata": {}
  },
  {
   "cell_type": "code",
   "execution_count": 129,
   "source": [
    "naive_with_hyperparameters_tuning(df)"
   ],
   "outputs": [
    {
     "output_type": "stream",
     "name": "stdout",
     "text": [
      "Best parameters {'metric': 'euclidean', 'n_neighbors': 3, 'weights': 'distance'}\n",
      "Train rmse 0.0\n",
      "Test rmse 0.0\n",
      "F measure 1.0\n",
      "              precision    recall  f1-score   support\n",
      "\n",
      "           1       1.00      1.00      1.00         1\n",
      "           2       1.00      1.00      1.00         1\n",
      "\n",
      "    accuracy                           1.00         2\n",
      "   macro avg       1.00      1.00      1.00         2\n",
      "weighted avg       1.00      1.00      1.00         2\n",
      "\n"
     ]
    },
    {
     "output_type": "display_data",
     "data": {
      "text/plain": [
       "<Figure size 432x288 with 1 Axes>"
      ],
      "image/png": "[encoded data removed]"
     },
     "metadata": {
      "needs_background": "light"
     }
    },
    {
     "output_type": "display_data",
     "data": {
      "text/plain": [
       "<Figure size 432x288 with 1 Axes>"
      ],
      "image/png": "[encoded data removed]"
     },
     "metadata": {
      "needs_background": "light"
     }
    }
   ],
   "metadata": {}
  },
  {
   "cell_type": "markdown",
   "source": [
    "# One-hot encoding"
   ],
   "metadata": {}
  },
  {
   "cell_type": "code",
   "execution_count": 48,
   "source": [
    "# one-hot algorithm for fixed neighbors count and fixed hyperparameters\n",
    "def one_hot(df, k=1):\n",
    "    X, y = get_data(df, one_hot=True)\n",
    "    X_train, X_test, y_train, y_test = train_test_split(X, y, test_size=test_size)\n",
    "    print(\"train size: \", X_train.shape)\n",
    "    print(\"test size: \", X_test.shape, \"\\n\")\n",
    "    \n",
    "    clf = KNeighborsRegressor(n_neighbors=k)\n",
    "\n",
    "    clf.fit(X_train, y_train)\n",
    "    pred = [int(x) for x in clf.predict(X_test)]\n",
    "    print(f\"Predicted class: {pred} (check {y_test.values})\")\n",
    "    print(f\"Score {clf.score(X_test, y_test)}\")\n",
    "    print('Mean squared error: %.2f'\n",
    "          % mean_squared_error(y_test, pred))\n",
    "    # The coefficient of determination: 1 is perfect prediction\n",
    "    print('Coefficient of determination: %.2f'\n",
    "          % r2_score(y_test, pred))"
   ],
   "outputs": [],
   "metadata": {}
  },
  {
   "cell_type": "code",
   "execution_count": 112,
   "source": [
    "# one-hot algorithm for variant neighbors count and variant hyperparameters with plots\n",
    "def one_hot_with_hyperparameters_tuning(df):\n",
    "    X, y = get_data(df, one_hot=True)\n",
    "    X_train, X_test, y_train, y_test = train_test_split(X, y, test_size=test_size)\n",
    "    gridsearch = GridSearchCV(KNeighborsRegressor(), parameters, return_train_score=True) #, verbose=3\n",
    "    gridsearch.fit(X_train, y_train)\n",
    "    print(f\"Best parameters {gridsearch.best_params_}\")\n",
    "\n",
    "    best_metric = gridsearch.best_params_['metric']\n",
    "    best_weights = gridsearch.best_params_['weights']\n",
    "\n",
    "    train_mse = mean_squared_error(y_train, gridsearch.predict(X_train))\n",
    "    train_rmse = math.sqrt(train_mse)\n",
    "    print(f\"Train rmse {train_rmse}\")\n",
    "    test_preds_grid = gridsearch.predict(X_test)\n",
    "    test_mse = mean_squared_error(y_test, test_preds_grid)\n",
    "    test_rmse = math.sqrt(test_mse)\n",
    "    print(f\"Test rmse {test_rmse}\")\n",
    "    print(f\"F measure {f1_score(y_test, [int(x) for x in test_preds_grid], average='weighted')}\")\n",
    "    print(classification_report(y_test, test_preds_grid.astype(\"int8\")))\n",
    "\n",
    "    display_tsne(X, y)\n",
    "    plot_loo_f1_measures(df, best_weights, best_metric, one_hot=True)"
   ],
   "outputs": [],
   "metadata": {}
  },
  {
   "cell_type": "code",
   "execution_count": 49,
   "source": [
    "one_hot(df)"
   ],
   "outputs": [
    {
     "output_type": "stream",
     "name": "stdout",
     "text": [
      "train size:  (115, 93)\n",
      "test size:  (2, 93) \n",
      "\n",
      "Predicted class: [1, 2] (check [1 2])\n",
      "Score 1.0\n",
      "Mean squared error: 0.00\n",
      "Coefficient of determination: 1.00\n"
     ]
    }
   ],
   "metadata": {}
  },
  {
   "cell_type": "code",
   "execution_count": 130,
   "source": [
    "one_hot_with_hyperparameters_tuning(df)"
   ],
   "outputs": [
    {
     "output_type": "stream",
     "name": "stdout",
     "text": [
      "Best parameters {'metric': 'euclidean', 'n_neighbors': 1, 'weights': 'uniform'}\n",
      "Train rmse 0.0\n",
      "Test rmse 0.0\n",
      "F measure 1.0\n",
      "              precision    recall  f1-score   support\n",
      "\n",
      "           1       1.00      1.00      1.00         2\n",
      "\n",
      "    accuracy                           1.00         2\n",
      "   macro avg       1.00      1.00      1.00         2\n",
      "weighted avg       1.00      1.00      1.00         2\n",
      "\n"
     ]
    },
    {
     "output_type": "display_data",
     "data": {
      "text/plain": [
       "<Figure size 432x288 with 1 Axes>"
      ],
      "image/png": "[encoded data removed]"
     },
     "metadata": {
      "needs_background": "light"
     }
    },
    {
     "output_type": "display_data",
     "data": {
      "text/plain": [
       "<Figure size 432x288 with 1 Axes>"
      ],
      "image/png": "[encoded data removed]"
     },
     "metadata": {
      "needs_background": "light"
     }
    }
   ],
   "metadata": {}
  }
 ],
 "metadata": {
  "orig_nbformat": 4,
  "language_info": {
   "name": "python",
   "version": "3.8.12",
   "mimetype": "text/x-python",
   "codemirror_mode": {
    "name": "ipython",
    "version": 3
   },
   "pygments_lexer": "ipython3",
   "nbconvert_exporter": "python",
   "file_extension": ".py"
  },
  "kernelspec": {
   "name": "python3",
   "display_name": "Python 3.8.12 64-bit (conda)"
  },
  "interpreter": {
   "hash": "61a4a2288744af848a587e5eb5871eb36411b631e37a71df137eb739986fec97"
  }
 },
 "nbformat": 4,
 "nbformat_minor": 2
}