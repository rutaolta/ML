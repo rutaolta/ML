{
 "cells": [
  {
   "cell_type": "markdown",
   "source": [
    "# Свёрточная сеть\n",
    "\n",
    "## Цели работы:\n",
    "1. Построить свёрточную нейронную сеть, используя известные библиотеки.\n",
    "2. Провести эксперименты на различных наборах данных.\n",
    "\n",
    "## Задание\n",
    "\n",
    "Постройте свёрточную “нейронную” сеть, состоящую из последовательности преобразований  свёртки и пулинга. Вывод сети должен завершаться SoftArgMax преобразованием. Попробуйте найти наилучшую архитектуру сети. Для поиска параметров используйте один из методов адаптивного градиентного спуска.\n",
    "\n",
    "В качестве минимизируемой функции ошибки должна использоваться перекрёстная энтропия, а в качестве контрольной функции ошибки - Accuracy (Error Rate). \n",
    "\n",
    "Постройте обыкновенную матрицу неточностей, а также матрицу у которой в ячейке i,j находится изображение класса i, которое сеть посчитала наиболее похожим на класс j.\n",
    "\n",
    "В данной лабораторной разрешается использовать реализации из *Keras*, *Pytorch* и *Tensorflow*, однако вы должны уметь объяснять, как алгоритмически работает тот или иной модуль соответствующей библиотеки.\n",
    "\n",
    "## Наборы данных\n",
    "Для поиска наилучшей архитектуры используйте набор данных [MNIST](http://yann.lecun.com/exdb/mnist/). Обучите и протестируйте наилучшую найденную архитектуру сети на наборе данных [Fashion-MNIST](https://github.com/zalandoresearch/fashion-mnist)."
   ],
   "metadata": {}
  },
  {
   "cell_type": "markdown",
   "source": [
    "# Imports"
   ],
   "metadata": {}
  },
  {
   "cell_type": "code",
   "execution_count": 29,
   "source": [
    "import numpy as np\n",
    "from tensorflow import keras\n",
    "from tensorflow.keras import layers, Sequential\n",
    "from sklearn.metrics import confusion_matrix\n",
    "import seaborn as sns\n",
    "import tensorflow as tf\n",
    "import matplotlib.pyplot as plt\n",
    "\n",
    "print(tf.__version__)"
   ],
   "outputs": [
    {
     "output_type": "stream",
     "name": "stdout",
     "text": [
      "2.7.0\n"
     ]
    }
   ],
   "metadata": {}
  },
  {
   "cell_type": "markdown",
   "source": [
    "# Data preparation MNIST"
   ],
   "metadata": {}
  },
  {
   "cell_type": "code",
   "execution_count": 19,
   "source": [
    "(x_train, y_train), (x_test, y_test) = keras.datasets.mnist.load_data()\n",
    "\n",
    "x_train = x_train.astype(\"float32\") / 255\n",
    "x_test = x_test.astype(\"float32\") / 255\n",
    "\n",
    "x_train = np.expand_dims(x_train, -1)\n",
    "x_test = np.expand_dims(x_test, -1)\n",
    "\n",
    "y_train = keras.utils.to_categorical(y_train, 10)\n",
    "y_test = keras.utils.to_categorical(y_test, 10)\n",
    "\n",
    "print(\"Train shape: \", x_train.shape)\n",
    "print(\"Test shape: \", x_test.shape)"
   ],
   "outputs": [
    {
     "output_type": "stream",
     "name": "stdout",
     "text": [
      "Train shape:  (60000, 28, 28, 1)\n",
      "Test shape:  (10000, 28, 28, 1)\n"
     ]
    }
   ],
   "metadata": {}
  },
  {
   "cell_type": "code",
   "execution_count": 14,
   "source": [
    "batch_size = 128"
   ],
   "outputs": [],
   "metadata": {}
  },
  {
   "cell_type": "markdown",
   "source": [
    "# Architecture №1"
   ],
   "metadata": {}
  },
  {
   "cell_type": "markdown",
   "source": [
    "## Initialize model"
   ],
   "metadata": {}
  },
  {
   "cell_type": "code",
   "execution_count": 32,
   "source": [
    "model = keras.Sequential(\n",
    "    [\n",
    "        keras.Input(shape=(28, 28, 1)),\n",
    "        layers.Conv2D(32, kernel_size=(3, 3), activation=\"relu\"),\n",
    "        layers.MaxPooling2D(pool_size=(2, 2)),\n",
    "        layers.Flatten(),\n",
    "        layers.Dense(10, activation=\"softmax\"),\n",
    "    ]\n",
    ")\n",
    "\n",
    "model.summary()"
   ],
   "outputs": [
    {
     "output_type": "stream",
     "name": "stdout",
     "text": [
      "Model: \"sequential_4\"\n",
      "_________________________________________________________________\n",
      " Layer (type)                Output Shape              Param #   \n",
      "=================================================================\n",
      " conv2d_5 (Conv2D)           (None, 26, 26, 32)        320       \n",
      "                                                                 \n",
      " max_pooling2d_5 (MaxPooling  (None, 13, 13, 32)       0         \n",
      " 2D)                                                             \n",
      "                                                                 \n",
      " flatten_4 (Flatten)         (None, 5408)              0         \n",
      "                                                                 \n",
      " dense_4 (Dense)             (None, 10)                54090     \n",
      "                                                                 \n",
      "=================================================================\n",
      "Total params: 54,410\n",
      "Trainable params: 54,410\n",
      "Non-trainable params: 0\n",
      "_________________________________________________________________\n"
     ]
    }
   ],
   "metadata": {}
  },
  {
   "cell_type": "markdown",
   "source": [
    "## Train model"
   ],
   "metadata": {}
  },
  {
   "cell_type": "markdown",
   "source": [
    "### SGD optimizer (lr = 0.01)"
   ],
   "metadata": {}
  },
  {
   "cell_type": "markdown",
   "source": [
    "#### epochs = 5"
   ],
   "metadata": {}
  },
  {
   "cell_type": "code",
   "execution_count": 34,
   "source": [
    "epochs = 5\n",
    "sgd_optimizer1 = keras.optimizers.SGD(learning_rate=0.01)\n",
    "model.compile(loss=\"categorical_crossentropy\", optimizer=sgd_optimizer1, metrics=[\"accuracy\"])\n",
    "model.fit(x_train, y_train, batch_size=batch_size, epochs=epochs, validation_split=0.1)\n",
    "\n",
    "score = model.evaluate(x_test, y_test, verbose=0)\n",
    "print(\"Test loss:\", score[0])\n",
    "print(\"Test accuracy:\", score[1])"
   ],
   "outputs": [
    {
     "output_type": "stream",
     "name": "stdout",
     "text": [
      "Epoch 1/5\n",
      "422/422 [==============================] - 12s 28ms/step - loss: 1.0067 - accuracy: 0.7654 - val_loss: 0.3807 - val_accuracy: 0.9012\n",
      "Epoch 2/5\n",
      "422/422 [==============================] - 7s 16ms/step - loss: 0.4087 - accuracy: 0.8841 - val_loss: 0.2980 - val_accuracy: 0.9162\n",
      "Epoch 3/5\n",
      "422/422 [==============================] - 8s 19ms/step - loss: 0.3593 - accuracy: 0.8961 - val_loss: 0.2780 - val_accuracy: 0.9212\n",
      "Epoch 4/5\n",
      "422/422 [==============================] - 8s 20ms/step - loss: 0.3386 - accuracy: 0.9020 - val_loss: 0.2624 - val_accuracy: 0.9247\n",
      "Epoch 5/5\n",
      "422/422 [==============================] - 9s 21ms/step - loss: 0.3255 - accuracy: 0.9062 - val_loss: 0.2551 - val_accuracy: 0.9278\n",
      "Test loss: 0.29230448603630066\n",
      "Test accuracy: 0.9172000288963318\n"
     ]
    }
   ],
   "metadata": {}
  },
  {
   "cell_type": "markdown",
   "source": [
    "#### epochs = 10"
   ],
   "metadata": {}
  },
  {
   "cell_type": "code",
   "execution_count": 35,
   "source": [
    "epochs = 10\n",
    "sgd_optimizer1 = keras.optimizers.SGD(learning_rate=0.01)\n",
    "model.compile(loss=\"categorical_crossentropy\", optimizer=sgd_optimizer1, metrics=[\"accuracy\"])\n",
    "model.fit(x_train, y_train, batch_size=batch_size, epochs=epochs, validation_split=0.1)\n",
    "\n",
    "score = model.evaluate(x_test, y_test, verbose=0)\n",
    "print(\"Test loss:\", score[0])\n",
    "print(\"Test accuracy:\", score[1])"
   ],
   "outputs": [
    {
     "output_type": "stream",
     "name": "stdout",
     "text": [
      "Epoch 1/10\n",
      "422/422 [==============================] - 229s 536ms/step - loss: 0.3158 - accuracy: 0.9089 - val_loss: 0.2505 - val_accuracy: 0.9290\n",
      "Epoch 2/10\n",
      "422/422 [==============================] - 9s 22ms/step - loss: 0.3079 - accuracy: 0.9113 - val_loss: 0.2458 - val_accuracy: 0.9317\n",
      "Epoch 3/10\n",
      "422/422 [==============================] - 10s 23ms/step - loss: 0.3014 - accuracy: 0.9131 - val_loss: 0.2392 - val_accuracy: 0.9337\n",
      "Epoch 4/10\n",
      "422/422 [==============================] - 9s 22ms/step - loss: 0.2958 - accuracy: 0.9146 - val_loss: 0.2358 - val_accuracy: 0.9340\n",
      "Epoch 5/10\n",
      "422/422 [==============================] - 10s 25ms/step - loss: 0.2905 - accuracy: 0.9158 - val_loss: 0.2315 - val_accuracy: 0.9348\n",
      "Epoch 6/10\n",
      "422/422 [==============================] - 10s 23ms/step - loss: 0.2851 - accuracy: 0.9179 - val_loss: 0.2286 - val_accuracy: 0.9363\n",
      "Epoch 7/10\n",
      "422/422 [==============================] - 9s 21ms/step - loss: 0.2801 - accuracy: 0.9192 - val_loss: 0.2251 - val_accuracy: 0.9377\n",
      "Epoch 8/10\n",
      "422/422 [==============================] - 10s 24ms/step - loss: 0.2754 - accuracy: 0.9200 - val_loss: 0.2235 - val_accuracy: 0.9377\n",
      "Epoch 9/10\n",
      "422/422 [==============================] - 10s 23ms/step - loss: 0.2711 - accuracy: 0.9219 - val_loss: 0.2170 - val_accuracy: 0.9392\n",
      "Epoch 10/10\n",
      "422/422 [==============================] - 8s 19ms/step - loss: 0.2665 - accuracy: 0.9236 - val_loss: 0.2173 - val_accuracy: 0.9380\n",
      "Test loss: 0.24913078546524048\n",
      "Test accuracy: 0.9276999831199646\n"
     ]
    }
   ],
   "metadata": {}
  },
  {
   "cell_type": "markdown",
   "source": [
    "### SGD optimizer (lr_schedule)"
   ],
   "metadata": {}
  },
  {
   "cell_type": "markdown",
   "source": [
    "#### epochs = 5"
   ],
   "metadata": {}
  },
  {
   "cell_type": "code",
   "execution_count": 36,
   "source": [
    "epochs = 5\n",
    "lr_schedule = keras.optimizers.schedules.ExponentialDecay(\n",
    "    initial_learning_rate=1e-2,\n",
    "    decay_steps=10000,\n",
    "    decay_rate=0.9)\n",
    "\n",
    "sgd_optimizer2 = keras.optimizers.SGD(learning_rate=lr_schedule)\n",
    "model.compile(loss=\"categorical_crossentropy\", optimizer=sgd_optimizer2, metrics=[\"accuracy\"])\n",
    "model.fit(x_train, y_train, batch_size=batch_size, epochs=epochs, validation_split=0.1)\n",
    "\n",
    "score = model.evaluate(x_test, y_test, verbose=0)\n",
    "print(\"Test loss:\", score[0])\n",
    "print(\"Test accuracy:\", score[1])"
   ],
   "outputs": [
    {
     "output_type": "stream",
     "name": "stdout",
     "text": [
      "Epoch 1/5\n",
      "422/422 [==============================] - 7s 15ms/step - loss: 0.2614 - accuracy: 0.9246 - val_loss: 0.2103 - val_accuracy: 0.9418\n",
      "Epoch 2/5\n",
      "422/422 [==============================] - 6s 15ms/step - loss: 0.2563 - accuracy: 0.9262 - val_loss: 0.2076 - val_accuracy: 0.9427\n",
      "Epoch 3/5\n",
      "422/422 [==============================] - 6s 15ms/step - loss: 0.2512 - accuracy: 0.9279 - val_loss: 0.2037 - val_accuracy: 0.9435\n",
      "Epoch 4/5\n",
      "422/422 [==============================] - 7s 18ms/step - loss: 0.2462 - accuracy: 0.9288 - val_loss: 0.1991 - val_accuracy: 0.9453\n",
      "Epoch 5/5\n",
      "422/422 [==============================] - 8s 18ms/step - loss: 0.2407 - accuracy: 0.9309 - val_loss: 0.1939 - val_accuracy: 0.9478\n",
      "Test loss: 0.22550256550312042\n",
      "Test accuracy: 0.9351000189781189\n"
     ]
    }
   ],
   "metadata": {}
  },
  {
   "cell_type": "markdown",
   "source": [
    "#### epochs = 10"
   ],
   "metadata": {}
  },
  {
   "cell_type": "code",
   "execution_count": 37,
   "source": [
    "epochs = 10\n",
    "lr_schedule = keras.optimizers.schedules.ExponentialDecay(\n",
    "    initial_learning_rate=1e-2,\n",
    "    decay_steps=10000,\n",
    "    decay_rate=0.9)\n",
    "\n",
    "sgd_optimizer2 = keras.optimizers.SGD(learning_rate=lr_schedule)\n",
    "model.compile(loss=\"categorical_crossentropy\", optimizer=sgd_optimizer2, metrics=[\"accuracy\"])\n",
    "model.fit(x_train, y_train, batch_size=batch_size, epochs=epochs, validation_split=0.1)\n",
    "\n",
    "score = model.evaluate(x_test, y_test, verbose=0)\n",
    "print(\"Test loss:\", score[0])\n",
    "print(\"Test accuracy:\", score[1])"
   ],
   "outputs": [
    {
     "output_type": "stream",
     "name": "stdout",
     "text": [
      "Epoch 1/10\n",
      "422/422 [==============================] - 7s 15ms/step - loss: 0.2353 - accuracy: 0.9330 - val_loss: 0.1916 - val_accuracy: 0.9475\n",
      "Epoch 2/10\n",
      "422/422 [==============================] - 7s 16ms/step - loss: 0.2301 - accuracy: 0.9346 - val_loss: 0.1863 - val_accuracy: 0.9490\n",
      "Epoch 3/10\n",
      "422/422 [==============================] - 8s 19ms/step - loss: 0.2242 - accuracy: 0.9364 - val_loss: 0.1838 - val_accuracy: 0.9510\n",
      "Epoch 4/10\n",
      "422/422 [==============================] - 8s 19ms/step - loss: 0.2184 - accuracy: 0.9385 - val_loss: 0.1769 - val_accuracy: 0.9520\n",
      "Epoch 5/10\n",
      "422/422 [==============================] - 8s 19ms/step - loss: 0.2125 - accuracy: 0.9403 - val_loss: 0.1737 - val_accuracy: 0.9543\n",
      "Epoch 6/10\n",
      "422/422 [==============================] - 7s 17ms/step - loss: 0.2072 - accuracy: 0.9424 - val_loss: 0.1678 - val_accuracy: 0.9570\n",
      "Epoch 7/10\n",
      "422/422 [==============================] - 8s 19ms/step - loss: 0.2013 - accuracy: 0.9433 - val_loss: 0.1646 - val_accuracy: 0.9558\n",
      "Epoch 8/10\n",
      "422/422 [==============================] - 7s 16ms/step - loss: 0.1958 - accuracy: 0.9453 - val_loss: 0.1598 - val_accuracy: 0.9592\n",
      "Epoch 9/10\n",
      "422/422 [==============================] - 6s 15ms/step - loss: 0.1905 - accuracy: 0.9472 - val_loss: 0.1568 - val_accuracy: 0.9587\n",
      "Epoch 10/10\n",
      "422/422 [==============================] - 6s 14ms/step - loss: 0.1851 - accuracy: 0.9484 - val_loss: 0.1509 - val_accuracy: 0.9612\n",
      "Test loss: 0.17263366281986237\n",
      "Test accuracy: 0.9505000114440918\n"
     ]
    }
   ],
   "metadata": {}
  },
  {
   "cell_type": "markdown",
   "source": [
    "### adam optimizer (lr = 0.01)"
   ],
   "metadata": {}
  },
  {
   "cell_type": "markdown",
   "source": [
    "#### epochs = 5"
   ],
   "metadata": {}
  },
  {
   "cell_type": "code",
   "execution_count": 38,
   "source": [
    "epochs = 5\n",
    "\n",
    "adam_optimizer = keras.optimizers.Adam(learning_rate=0.01)\n",
    "model.compile(loss=\"categorical_crossentropy\", optimizer=adam_optimizer, metrics=[\"accuracy\"])\n",
    "model.fit(x_train, y_train, batch_size=batch_size, epochs=epochs, validation_split=0.1)\n",
    "\n",
    "score = model.evaluate(x_test, y_test, verbose=0)\n",
    "print(\"Test loss:\", score[0])\n",
    "print(\"Test accuracy:\", score[1])"
   ],
   "outputs": [
    {
     "output_type": "stream",
     "name": "stdout",
     "text": [
      "Epoch 1/5\n",
      "422/422 [==============================] - 7s 15ms/step - loss: 0.2133 - accuracy: 0.9477 - val_loss: 0.0743 - val_accuracy: 0.9800\n",
      "Epoch 2/5\n",
      "422/422 [==============================] - 6s 15ms/step - loss: 0.0746 - accuracy: 0.9767 - val_loss: 0.0656 - val_accuracy: 0.9808\n",
      "Epoch 3/5\n",
      "422/422 [==============================] - 6s 15ms/step - loss: 0.0536 - accuracy: 0.9835 - val_loss: 0.0517 - val_accuracy: 0.9870\n",
      "Epoch 4/5\n",
      "422/422 [==============================] - 7s 16ms/step - loss: 0.0429 - accuracy: 0.9859 - val_loss: 0.0774 - val_accuracy: 0.9810\n",
      "Epoch 5/5\n",
      "422/422 [==============================] - 8s 18ms/step - loss: 0.0361 - accuracy: 0.9878 - val_loss: 0.0602 - val_accuracy: 0.9840\n",
      "Test loss: 0.06254531443119049\n",
      "Test accuracy: 0.9814000129699707\n"
     ]
    }
   ],
   "metadata": {}
  },
  {
   "cell_type": "markdown",
   "source": [
    "#### epochs = 10"
   ],
   "metadata": {}
  },
  {
   "cell_type": "code",
   "execution_count": 39,
   "source": [
    "epochs = 10\n",
    "\n",
    "adam_optimizer = keras.optimizers.Adam(learning_rate=0.01)\n",
    "model.compile(loss=\"categorical_crossentropy\", optimizer=adam_optimizer, metrics=[\"accuracy\"])\n",
    "model.fit(x_train, y_train, batch_size=batch_size, epochs=epochs, validation_split=0.1)\n",
    "\n",
    "score = model.evaluate(x_test, y_test, verbose=0)\n",
    "print(\"Test loss:\", score[0])\n",
    "print(\"Test accuracy:\", score[1])"
   ],
   "outputs": [
    {
     "output_type": "stream",
     "name": "stdout",
     "text": [
      "Epoch 1/10\n",
      "422/422 [==============================] - 7s 15ms/step - loss: 0.0394 - accuracy: 0.9872 - val_loss: 0.0693 - val_accuracy: 0.9815\n",
      "Epoch 2/10\n",
      "422/422 [==============================] - 6s 15ms/step - loss: 0.0279 - accuracy: 0.9907 - val_loss: 0.0689 - val_accuracy: 0.9818\n",
      "Epoch 3/10\n",
      "422/422 [==============================] - 7s 17ms/step - loss: 0.0221 - accuracy: 0.9924 - val_loss: 0.0711 - val_accuracy: 0.9835\n",
      "Epoch 4/10\n",
      "422/422 [==============================] - 7s 17ms/step - loss: 0.0163 - accuracy: 0.9948 - val_loss: 0.0742 - val_accuracy: 0.9855\n",
      "Epoch 5/10\n",
      "422/422 [==============================] - 7s 18ms/step - loss: 0.0150 - accuracy: 0.9948 - val_loss: 0.0783 - val_accuracy: 0.9837\n",
      "Epoch 6/10\n",
      "422/422 [==============================] - 8s 19ms/step - loss: 0.0143 - accuracy: 0.9951 - val_loss: 0.0753 - val_accuracy: 0.9862\n",
      "Epoch 7/10\n",
      "422/422 [==============================] - 7s 17ms/step - loss: 0.0123 - accuracy: 0.9959 - val_loss: 0.0789 - val_accuracy: 0.9845\n",
      "Epoch 8/10\n",
      "422/422 [==============================] - 7s 16ms/step - loss: 0.0126 - accuracy: 0.9957 - val_loss: 0.0770 - val_accuracy: 0.9868\n",
      "Epoch 9/10\n",
      "422/422 [==============================] - 7s 17ms/step - loss: 0.0107 - accuracy: 0.9964 - val_loss: 0.0982 - val_accuracy: 0.9833\n",
      "Epoch 10/10\n",
      "422/422 [==============================] - 7s 16ms/step - loss: 0.0103 - accuracy: 0.9966 - val_loss: 0.0956 - val_accuracy: 0.9840\n",
      "Test loss: 0.09664303809404373\n",
      "Test accuracy: 0.9821000099182129\n"
     ]
    }
   ],
   "metadata": {}
  },
  {
   "cell_type": "markdown",
   "source": [
    "# Architecture №2"
   ],
   "metadata": {}
  },
  {
   "cell_type": "markdown",
   "source": [
    "## Initialize model"
   ],
   "metadata": {}
  },
  {
   "cell_type": "code",
   "execution_count": 92,
   "source": [
    "model2 = keras.Sequential(\n",
    "    [\n",
    "        keras.Input(shape=(28, 28, 1)),\n",
    "        layers.Conv2D(32, kernel_size=(3, 3), activation=\"relu\"),\n",
    "        layers.MaxPool2D(pool_size=(2, 2)),\n",
    "        layers.Conv2D(64, kernel_size=(3, 3), activation=\"relu\"),\n",
    "        layers.MaxPool2D(pool_size=(2, 2)),\n",
    "        layers.Flatten(),\n",
    "        layers.Dropout(0.5),\n",
    "        layers.Dense(64, activation='relu'),\n",
    "        layers.BatchNormalization(),\n",
    "        layers.Dense(10, activation=\"softmax\"),\n",
    "    ]\n",
    ")\n",
    "\n",
    "model2.summary()"
   ],
   "outputs": [
    {
     "output_type": "stream",
     "name": "stdout",
     "text": [
      "Model: \"sequential_23\"\n",
      "_________________________________________________________________\n",
      " Layer (type)                Output Shape              Param #   \n",
      "=================================================================\n",
      " conv2d_34 (Conv2D)          (None, 26, 26, 32)        320       \n",
      "                                                                 \n",
      " max_pooling2d_40 (MaxPoolin  (None, 13, 13, 32)       0         \n",
      " g2D)                                                            \n",
      "                                                                 \n",
      " conv2d_35 (Conv2D)          (None, 11, 11, 64)        18496     \n",
      "                                                                 \n",
      " max_pooling2d_41 (MaxPoolin  (None, 5, 5, 64)         0         \n",
      " g2D)                                                            \n",
      "                                                                 \n",
      " flatten_30 (Flatten)        (None, 1600)              0         \n",
      "                                                                 \n",
      " dropout_14 (Dropout)        (None, 1600)              0         \n",
      "                                                                 \n",
      " dense_44 (Dense)            (None, 64)                102464    \n",
      "                                                                 \n",
      " batch_normalization (BatchN  (None, 64)               256       \n",
      " ormalization)                                                   \n",
      "                                                                 \n",
      " dense_45 (Dense)            (None, 10)                650       \n",
      "                                                                 \n",
      "=================================================================\n",
      "Total params: 122,186\n",
      "Trainable params: 122,058\n",
      "Non-trainable params: 128\n",
      "_________________________________________________________________\n"
     ]
    }
   ],
   "metadata": {}
  },
  {
   "cell_type": "markdown",
   "source": [
    "## Train model"
   ],
   "metadata": {}
  },
  {
   "cell_type": "markdown",
   "source": [
    "#### epochs = 5"
   ],
   "metadata": {}
  },
  {
   "cell_type": "code",
   "execution_count": 94,
   "source": [
    "epochs = 5\n",
    "adam_optimizer = keras.optimizers.Adam(learning_rate=0.005)\n",
    "model2.compile(loss=\"categorical_crossentropy\", optimizer=adam_optimizer, metrics=[\"accuracy\"])\n",
    "model2.fit(x_train, y_train, batch_size=batch_size, epochs=epochs, validation_split=0.1)\n",
    "\n",
    "score = model2.evaluate(x_test, y_test, verbose=0)\n",
    "print(\"Test loss:\", score[0])\n",
    "print(\"Test accuracy:\", score[1])"
   ],
   "outputs": [
    {
     "output_type": "stream",
     "name": "stdout",
     "text": [
      "Epoch 1/5\n",
      "422/422 [==============================] - 14s 33ms/step - loss: 0.0374 - accuracy: 0.9882 - val_loss: 0.0262 - val_accuracy: 0.9930\n",
      "Epoch 2/5\n",
      "422/422 [==============================] - 14s 33ms/step - loss: 0.0335 - accuracy: 0.9896 - val_loss: 0.0253 - val_accuracy: 0.9922\n",
      "Epoch 3/5\n",
      "422/422 [==============================] - 16s 38ms/step - loss: 0.0305 - accuracy: 0.9900 - val_loss: 0.0307 - val_accuracy: 0.9925\n",
      "Epoch 4/5\n",
      "422/422 [==============================] - 16s 37ms/step - loss: 0.0281 - accuracy: 0.9910 - val_loss: 0.0302 - val_accuracy: 0.9922\n",
      "Epoch 5/5\n",
      "422/422 [==============================] - 16s 37ms/step - loss: 0.0274 - accuracy: 0.9909 - val_loss: 0.0254 - val_accuracy: 0.9932\n",
      "Test loss: 0.023705579340457916\n",
      "Test accuracy: 0.9927999973297119\n"
     ]
    }
   ],
   "metadata": {}
  },
  {
   "cell_type": "markdown",
   "source": [
    "# Fashion-MNIST"
   ],
   "metadata": {}
  },
  {
   "cell_type": "markdown",
   "source": [
    "## Data preparation"
   ],
   "metadata": {}
  },
  {
   "cell_type": "code",
   "execution_count": 2,
   "source": [
    "fashion_mnist = tf.keras.datasets.fashion_mnist\n",
    "\n",
    "(x_train, y_train_), (x_test, y_test_) = fashion_mnist.load_data()\n",
    "\n",
    "x_train = x_train.astype(\"float32\") / 255\n",
    "x_test = x_test.astype(\"float32\") / 255\n",
    "\n",
    "x_train = np.expand_dims(x_train, -1)\n",
    "x_test = np.expand_dims(x_test, -1)\n",
    "\n",
    "print(\"Train shape: \", x_train.shape)\n",
    "print(\"Test shape: \", x_test.shape)"
   ],
   "outputs": [
    {
     "output_type": "stream",
     "name": "stdout",
     "text": [
      "Train shape:  (60000, 28, 28, 1)\n",
      "Test shape:  (10000, 28, 28, 1)\n"
     ]
    }
   ],
   "metadata": {}
  },
  {
   "cell_type": "code",
   "execution_count": 3,
   "source": [
    "plt.figure()\n",
    "plt.imshow(x_train[0])\n",
    "plt.colorbar()\n",
    "plt.grid(False)\n",
    "plt.show()"
   ],
   "outputs": [
    {
     "output_type": "display_data",
     "data": {
      "text/plain": [
       "<Figure size 432x288 with 2 Axes>"
      ],
      "image/png": "[encoded data removed]"
     },
     "metadata": {
      "needs_background": "light"
     }
    }
   ],
   "metadata": {}
  },
  {
   "cell_type": "code",
   "execution_count": 6,
   "source": [
    "class_names = ['T-shirt/top', 'Trouser', 'Pullover', 'Dress', 'Coat',\n",
    "               'Sandal', 'Shirt', 'Sneaker', 'Bag', 'Ankle boot']\n",
    "plt.figure(figsize=(10,10))\n",
    "for i in range(25):\n",
    "    plt.subplot(5,5,i+1)\n",
    "    plt.xticks([])\n",
    "    plt.yticks([])\n",
    "    plt.grid(False)\n",
    "    plt.imshow(x_train[i], cmap=plt.cm.binary)\n",
    "    plt.xlabel(class_names[y_train_[i]])\n",
    "plt.show()"
   ],
   "outputs": [
    {
     "output_type": "display_data",
     "data": {
      "text/plain": [
       "<Figure size 720x720 with 25 Axes>"
      ],
      "image/png": "[encoded data removed]"
     },
     "metadata": {}
    }
   ],
   "metadata": {}
  },
  {
   "cell_type": "code",
   "execution_count": 9,
   "source": [
    "y_train = keras.utils.to_categorical(y_train_, 10)\n",
    "y_test = keras.utils.to_categorical(y_test_, 10)"
   ],
   "outputs": [],
   "metadata": {}
  },
  {
   "cell_type": "markdown",
   "source": [
    "## Initialize model"
   ],
   "metadata": {}
  },
  {
   "cell_type": "code",
   "execution_count": 16,
   "source": [
    "model_fashion = Sequential([\n",
    "    layers.Conv2D(32, kernel_size=(3, 3), activation='relu',input_shape=(28, 28, 1)),\n",
    "    layers.MaxPooling2D(pool_size=(2, 2)),\n",
    "    layers.Conv2D(64, kernel_size=(3, 3), activation='relu'),\n",
    "    layers.MaxPooling2D(pool_size=(2, 2)),\n",
    "    layers.Flatten(),\n",
    "    layers.Dropout(0.5),\n",
    "    layers.Dense(64, activation='relu'),\n",
    "    layers.BatchNormalization(),\n",
    "    layers.Dense(10, activation='softmax')\n",
    "])\n",
    "\n",
    "model_fashion.summary()"
   ],
   "outputs": [
    {
     "output_type": "stream",
     "name": "stdout",
     "text": [
      "Model: \"sequential_1\"\n",
      "_________________________________________________________________\n",
      " Layer (type)                Output Shape              Param #   \n",
      "=================================================================\n",
      " conv2d_2 (Conv2D)           (None, 26, 26, 32)        320       \n",
      "                                                                 \n",
      " max_pooling2d_2 (MaxPooling  (None, 13, 13, 32)       0         \n",
      " 2D)                                                             \n",
      "                                                                 \n",
      " conv2d_3 (Conv2D)           (None, 11, 11, 64)        18496     \n",
      "                                                                 \n",
      " max_pooling2d_3 (MaxPooling  (None, 5, 5, 64)         0         \n",
      " 2D)                                                             \n",
      "                                                                 \n",
      " flatten_1 (Flatten)         (None, 1600)              0         \n",
      "                                                                 \n",
      " dropout_1 (Dropout)         (None, 1600)              0         \n",
      "                                                                 \n",
      " dense_2 (Dense)             (None, 64)                102464    \n",
      "                                                                 \n",
      " batch_normalization_1 (Batc  (None, 64)               256       \n",
      " hNormalization)                                                 \n",
      "                                                                 \n",
      " dense_3 (Dense)             (None, 10)                650       \n",
      "                                                                 \n",
      "=================================================================\n",
      "Total params: 122,186\n",
      "Trainable params: 122,058\n",
      "Non-trainable params: 128\n",
      "_________________________________________________________________\n"
     ]
    }
   ],
   "metadata": {}
  },
  {
   "cell_type": "markdown",
   "source": [
    "## Train model"
   ],
   "metadata": {}
  },
  {
   "cell_type": "code",
   "execution_count": 17,
   "source": [
    "epochs = 5\n",
    "adam_optimizer = keras.optimizers.Adam(learning_rate=0.01)\n",
    "model_fashion.compile(loss=\"categorical_crossentropy\", optimizer=adam_optimizer, metrics=[\"accuracy\"])\n",
    "model_fashion.fit(x_train, y_train, batch_size=batch_size, epochs=epochs, validation_split=0.1)\n",
    "\n",
    "score = model_fashion.evaluate(x_test, y_test, verbose=0)\n",
    "print(\"Test loss:\", score[0])\n",
    "print(\"Test accuracy:\", score[1])"
   ],
   "outputs": [
    {
     "output_type": "stream",
     "name": "stderr",
     "text": [
      "2021-12-10 15:21:46.812845: W tensorflow/core/framework/cpu_allocator_impl.cc:82] Allocation of 169344000 exceeds 10% of free system memory.\n"
     ]
    },
    {
     "output_type": "stream",
     "name": "stdout",
     "text": [
      "Epoch 1/5\n",
      "422/422 [==============================] - 14s 33ms/step - loss: 0.4995 - accuracy: 0.8142 - val_loss: 0.3444 - val_accuracy: 0.8728\n",
      "Epoch 2/5\n",
      "422/422 [==============================] - 16s 37ms/step - loss: 0.3675 - accuracy: 0.8641 - val_loss: 0.3115 - val_accuracy: 0.8823\n",
      "Epoch 3/5\n",
      "422/422 [==============================] - 16s 39ms/step - loss: 0.3393 - accuracy: 0.8750 - val_loss: 0.2968 - val_accuracy: 0.8838\n",
      "Epoch 4/5\n",
      "422/422 [==============================] - 16s 37ms/step - loss: 0.3087 - accuracy: 0.8859 - val_loss: 0.2946 - val_accuracy: 0.8885\n",
      "Epoch 5/5\n",
      "422/422 [==============================] - 16s 37ms/step - loss: 0.2986 - accuracy: 0.8886 - val_loss: 0.2586 - val_accuracy: 0.9060\n"
     ]
    },
    {
     "output_type": "stream",
     "name": "stderr",
     "text": [
      "2021-12-10 15:23:05.056704: W tensorflow/core/framework/cpu_allocator_impl.cc:82] Allocation of 31360000 exceeds 10% of free system memory.\n"
     ]
    },
    {
     "output_type": "stream",
     "name": "stdout",
     "text": [
      "Test loss: 0.28080689907073975\n",
      "Test accuracy: 0.8992999792098999\n"
     ]
    }
   ],
   "metadata": {}
  },
  {
   "cell_type": "code",
   "execution_count": 34,
   "source": [
    "predictions = model_fashion.predict(x_test)\n",
    "y_pred = np.argmax(predictions, axis=1)"
   ],
   "outputs": [],
   "metadata": {}
  },
  {
   "cell_type": "code",
   "execution_count": 25,
   "source": [
    "confusion_matrix = confusion_matrix(y_true=y_test_, y_pred=y_pred)\n",
    "plt.figure(figsize = (10,7))\n",
    "confusion_matrix = confusion_matrix.astype('float') / confusion_matrix.sum(axis=1)[:, np.newaxis]\n",
    "sns.heatmap(confusion_matrix, annot=True, cmap='Blues')"
   ],
   "outputs": [
    {
     "output_type": "execute_result",
     "data": {
      "text/plain": [
       "<AxesSubplot:>"
      ]
     },
     "metadata": {},
     "execution_count": 25
    },
    {
     "output_type": "display_data",
     "data": {
      "text/plain": [
       "<Figure size 720x504 with 2 Axes>"
      ],
      "image/png": "[encoded data removed]"
     },
     "metadata": {
      "needs_background": "light"
     }
    }
   ],
   "metadata": {}
  },
  {
   "cell_type": "code",
   "execution_count": 26,
   "source": [
    "print('Most similar clothes:')\n",
    "print('\\t 1. ' + class_names[0] + ' & ' + class_names[6])\n",
    "print('\\t 2. ' + class_names[0] + ' & ' + class_names[4])"
   ],
   "outputs": [
    {
     "output_type": "stream",
     "name": "stdout",
     "text": [
      "Most similar clothes:\n",
      "\t 1. T-shirt/top & Shirt\n",
      "\t 2. T-shirt/top & Coat\n"
     ]
    }
   ],
   "metadata": {}
  }
 ],
 "metadata": {
  "orig_nbformat": 4,
  "language_info": {
   "name": "python",
   "version": "3.9.7",
   "mimetype": "text/x-python",
   "codemirror_mode": {
    "name": "ipython",
    "version": 3
   },
   "pygments_lexer": "ipython3",
   "nbconvert_exporter": "python",
   "file_extension": ".py"
  },
  "kernelspec": {
   "name": "python3",
   "display_name": "Python 3.9.7 64-bit ('miniconda3': virtualenv)"
  },
  "interpreter": {
   "hash": "41dad33ac27be026cb602e0a62f760d014741d4939993a4186ae922aa189125a"
  }
 },
 "nbformat": 4,
 "nbformat_minor": 2
}