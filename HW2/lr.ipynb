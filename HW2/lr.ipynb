{
 "cells": [
  {
   "cell_type": "markdown",
   "source": [
    "# Линейная регрессия\n",
    "\n",
    "## Цели работы:\n",
    "1. реализовать два способа решения задачи линейной регрессии;\n",
    "2. настроить гиперпараметры у каждого алгоритма, в частности параметры одного из методов регуляризации;\n",
    "3. анализ результатов.\n",
    "\n",
    "## Данные\n",
    "\n",
    "Используйте один из этих наборов данных для тестирования алгоритмов. Каждый тест в архиве организован следующим образом:\n",
    "\n",
    "%число признаков%\n",
    "\n",
    "%число объектов в тренировочном наборе%\n",
    "\n",
    "%объект тренировочного набора 1%\n",
    "\n",
    "%объект тренировочного набора 2%\n",
    "\n",
    "…..\n",
    "\n",
    "%объект тренировочного набора N%\n",
    "\n",
    "%число объектов в тестовом наборе%\n",
    "\n",
    "%объект тестового набора 1%\n",
    "\n",
    "%объект тестового набора 2%\n",
    "\n",
    "…..\n",
    "\n",
    "%объект тестового набора K%\n",
    "\n",
    "Формат объектов совпадает с форматом из соответствующей задачи на Codeforces.\n",
    "\n",
    "## Задание\n",
    "\n",
    "### Алгоритмы\n",
    "\n",
    "Реализуйте алгоритмы нахождения уравнения прямой для задачи линейной регрессии:\n",
    "- МНК — метод наименьших квадратов (псевдообратная матрица / SVD);\n",
    "- градиентный спуск.\n",
    "\n",
    "На лекции мы рассматривали алгоритм градиентного спуска для классификации, однако его можно применять и для задач регрессии, важно лишь выбрать дифференцируемую функцию ошибки. В данном случае необходимо использовать среднюю квадратичную ошибку.\n",
    "\n",
    "Требуется реализовать стохастический или пакетный градиентный спуск. Напоминаем, что эмпирический риск нужно балансировать на каждой итерации при помощи экспоненциального скользящего среднего.\n",
    "\n",
    "Для алгоритма градиентного спуска рекомендуется использовать начальную инициализацию весов где — число признаков (см. лекцию). Шаг градиента необходимо уменьшать на каждой итерации, например: — номер итерации. Другие способы инициализации весов и уменьшения шага градиента использовать также можно.\n",
    "\n",
    "Алгоритм градиентного спуска необходимо запустить с ограничением по числу итераций (не более 2000 итераций).\n",
    "\n",
    "В качестве функции оценки качества алгоритма используйте NRMSE, либо SMAPE.\n",
    "\n",
    "### Регуляризация\n",
    "\n",
    "В реализации каждого из вышеупомянутых алгоритмов необходимо использовать регуляризацию. Для МНК гребневую регуляризацию, для градиентного один из методов на выбор:\n",
    "- гребневая;\n",
    "- LASSO;\n",
    "- Elastic Net.\n",
    "\n",
    "### Настройка и анализ\n",
    "\n",
    "Для каждого алгоритма найдите наилучшие гиперпараметры, а именно, параметры регуляризации, и выведите лучшие соответствующие результаты с точки зрения выбранной Вами функции ошибки.  Перебирать различные способы инициализации вектора весов, уменьшения шага градиента а также различные темпы затухания в экспоненциальном скользящем среднем в качестве гиперпараметров не требуется.\n",
    "\n",
    "Для алгоритма градиентного спуска постройте график зависимости функции оценки качества (NRMSE или SMAPE) на тренировочном и тестовом множестве от числа итераций.\n",
    "\n"
   ],
   "metadata": {}
  },
  {
   "cell_type": "markdown",
   "source": [
    "# Imports"
   ],
   "metadata": {}
  },
  {
   "cell_type": "code",
   "execution_count": 136,
   "source": [
    "import numpy as np\n",
    "import pandas as pd\n",
    "import seaborn as sns\n",
    "from sklearn.decomposition import TruncatedSVD\n",
    "import matplotlib.pyplot as plt\n",
    "from scipy import linalg\n",
    "from sklearn.linear_model import Ridge\n",
    "from sklearn.model_selection import GridSearchCV, PredefinedSplit\n",
    "from sklearn.metrics import make_scorer, r2_score\n",
    "from sklearn.linear_model import SGDRegressor\n",
    "from sklearn.preprocessing import MinMaxScaler\n",
    "\n",
    "\n",
    "import warnings\n",
    "warnings.filterwarnings('ignore')"
   ],
   "outputs": [],
   "metadata": {}
  },
  {
   "cell_type": "markdown",
   "source": [
    "# Data preparation"
   ],
   "metadata": {}
  },
  {
   "cell_type": "code",
   "execution_count": 3,
   "source": [
    "def get_data():\n",
    "    data = []\n",
    "    for i in range(1,8):\n",
    "        with open(f\"LR/{i}.txt\") as f:\n",
    "            lines=f.readlines()\n",
    "            n_objects_line = 1\n",
    "            for type in ['train', 'test']:\n",
    "                try:\n",
    "                    objects_size = int(lines[n_objects_line])\n",
    "                    start_object = n_objects_line + 1\n",
    "                    end_object = n_objects_line + objects_size + 1\n",
    "                    \n",
    "                    data.append({\"file_name\": i,\n",
    "                                \"type\": type,\n",
    "                                \"n_features\": int(lines[0].splitlines()[0]), \n",
    "                                \"n_objects\": int(lines[n_objects_line].splitlines()[0]), \n",
    "                                \"objects\": pd.DataFrame(line.splitlines()[0].split(' ') for line in lines[start_object: end_object]).applymap(int)\n",
    "                                })\n",
    "                    n_objects_line = end_object\n",
    "                except:\n",
    "                    break\n",
    "    return data"
   ],
   "outputs": [],
   "metadata": {}
  },
  {
   "cell_type": "code",
   "execution_count": 261,
   "source": [
    "def normalize(data):\n",
    "    return data/data.max()\n",
    "\n",
    "def prepare_data():\n",
    "    data = get_data()[6:8]\n",
    "\n",
    "    data_train = data[0][\"objects\"]\n",
    "    data_test = data[1][\"objects\"]\n",
    "\n",
    "    # data_train = MinMaxScaler().fit_transform(X=data_train)\n",
    "    # data_test = MinMaxScaler().fit_transform(X=data_test)\n",
    "\n",
    "    data_train = data_train.apply(normalize, axis=1)\n",
    "    data_test = data_test.apply(normalize, axis=1)\n",
    "\n",
    "    y_train = data_train.iloc[:,-1]\n",
    "    X_train = data_train.iloc[:,:-1]\n",
    "\n",
    "    y_test = data_test.iloc[:,-1]\n",
    "    X_test = data_test.iloc[:,:-1]\n",
    "\n",
    "    return X_train, y_train, X_test, y_test"
   ],
   "outputs": [],
   "metadata": {}
  },
  {
   "cell_type": "code",
   "execution_count": 262,
   "source": [
    "X_train, y_train, X_test, y_test = prepare_data()\n",
    "X_train"
   ],
   "outputs": [
    {
     "output_type": "execute_result",
     "data": {
      "text/plain": [
       "           0         1         2         3         4         5         6    \\\n",
       "0    -0.045128  0.469516 -0.927442  0.019085 -0.017850 -0.086714 -0.028797   \n",
       "1    -0.051314  0.003375 -0.564419  0.034191 -0.060416 -0.139576 -0.003641   \n",
       "2    -0.014058  0.228418 -0.219643  0.029500 -0.085234 -0.143649 -0.021582   \n",
       "3    -0.043319  0.298675 -0.854351  0.016129 -0.024788 -0.091839 -0.040798   \n",
       "4    -0.111637  0.061624 -0.945913  0.037507 -0.093550 -0.229755 -0.030720   \n",
       "...        ...       ...       ...       ...       ...       ...       ...   \n",
       "3410 -0.004774  0.140852 -0.244372  0.006438 -0.005423 -0.031193  0.000200   \n",
       "3411 -0.000297  0.274667 -0.395288  0.006408 -0.016521 -0.029854 -0.015158   \n",
       "3412 -0.014390  0.198994 -0.241311  0.006379 -0.016638 -0.036923 -0.015718   \n",
       "3413 -0.015159  0.125848 -0.201475  0.006028 -0.008085 -0.027455 -0.009870   \n",
       "3414 -0.011534  0.139760 -0.169328  0.005875 -0.013806 -0.036438 -0.014726   \n",
       "\n",
       "           7         8         9    ...       136       137       138  \\\n",
       "0    -0.119803  0.162157 -0.032596  ... -0.013269  0.271966  1.000000   \n",
       "1    -0.223221 -0.017135 -0.078546  ... -0.025944  0.166423  0.651566   \n",
       "2     0.113329  0.046962 -0.078151  ... -0.002281  0.229942  0.263426   \n",
       "3    -0.051126  0.188965 -0.037856  ... -0.013124  0.192270  1.000000   \n",
       "4    -0.373634  0.540045 -0.062403  ... -0.049297  0.204747  1.000000   \n",
       "...        ...       ...       ...  ...       ...       ...       ...   \n",
       "3410 -0.039649 -0.031746 -0.015202  ... -0.003277  0.085032  0.312112   \n",
       "3411 -0.033906 -0.037692 -0.017748  ... -0.001806  0.136130  0.424288   \n",
       "3412 -0.018158 -0.021846 -0.017950  ... -0.005324  0.107012  0.304995   \n",
       "3413 -0.069521  0.047447 -0.017309  ... -0.005797  0.077307  0.205986   \n",
       "3414 -0.070038 -0.066819 -0.013137  ... -0.006200  0.081893  0.183225   \n",
       "\n",
       "           139       140       141       142       143       144       145  \n",
       "0     0.017263 -0.077492  0.000484 -0.067283 -0.201705 -0.009625  0.001524  \n",
       "1     0.040161 -0.159730  0.003436  0.055312 -0.116239 -0.050342  0.013199  \n",
       "2     0.014790 -0.123075  0.003364  0.057449 -0.051289 -0.073087  0.008750  \n",
       "3     0.010992 -0.061961  0.000418 -0.009890 -0.184604 -0.011864  0.000322  \n",
       "4     0.047893 -0.159464  0.002639  0.136922 -0.197407 -0.026673  0.005366  \n",
       "...        ...       ...       ...       ...       ...       ...       ...  \n",
       "3410  0.007087 -0.034591  0.000404  0.011229 -0.053829 -0.014607  0.002525  \n",
       "3411  0.005770 -0.029389  0.000367  0.023654 -0.088670 -0.010503  0.002539  \n",
       "3412  0.003994 -0.041149 -0.000025  0.012788 -0.054089 -0.010662  0.001119  \n",
       "3413  0.007218 -0.023312  0.000419  0.021300 -0.044602 -0.009040  0.000301  \n",
       "3414  0.006017 -0.038590  0.000355  0.011619 -0.038435 -0.009396  0.000246  \n",
       "\n",
       "[3415 rows x 146 columns]"
      ],
      "text/html": [
       "<div>\n",
       "<style scoped>\n",
       "    .dataframe tbody tr th:only-of-type {\n",
       "        vertical-align: middle;\n",
       "    }\n",
       "\n",
       "    .dataframe tbody tr th {\n",
       "        vertical-align: top;\n",
       "    }\n",
       "\n",
       "    .dataframe thead th {\n",
       "        text-align: right;\n",
       "    }\n",
       "</style>\n",
       "<table border=\"1\" class=\"dataframe\">\n",
       "  <thead>\n",
       "    <tr style=\"text-align: right;\">\n",
       "      <th></th>\n",
       "      <th>0</th>\n",
       "      <th>1</th>\n",
       "      <th>2</th>\n",
       "      <th>3</th>\n",
       "      <th>4</th>\n",
       "      <th>5</th>\n",
       "      <th>6</th>\n",
       "      <th>7</th>\n",
       "      <th>8</th>\n",
       "      <th>9</th>\n",
       "      <th>...</th>\n",
       "      <th>136</th>\n",
       "      <th>137</th>\n",
       "      <th>138</th>\n",
       "      <th>139</th>\n",
       "      <th>140</th>\n",
       "      <th>141</th>\n",
       "      <th>142</th>\n",
       "      <th>143</th>\n",
       "      <th>144</th>\n",
       "      <th>145</th>\n",
       "    </tr>\n",
       "  </thead>\n",
       "  <tbody>\n",
       "    <tr>\n",
       "      <th>0</th>\n",
       "      <td>-0.045128</td>\n",
       "      <td>0.469516</td>\n",
       "      <td>-0.927442</td>\n",
       "      <td>0.019085</td>\n",
       "      <td>-0.017850</td>\n",
       "      <td>-0.086714</td>\n",
       "      <td>-0.028797</td>\n",
       "      <td>-0.119803</td>\n",
       "      <td>0.162157</td>\n",
       "      <td>-0.032596</td>\n",
       "      <td>...</td>\n",
       "      <td>-0.013269</td>\n",
       "      <td>0.271966</td>\n",
       "      <td>1.000000</td>\n",
       "      <td>0.017263</td>\n",
       "      <td>-0.077492</td>\n",
       "      <td>0.000484</td>\n",
       "      <td>-0.067283</td>\n",
       "      <td>-0.201705</td>\n",
       "      <td>-0.009625</td>\n",
       "      <td>0.001524</td>\n",
       "    </tr>\n",
       "    <tr>\n",
       "      <th>1</th>\n",
       "      <td>-0.051314</td>\n",
       "      <td>0.003375</td>\n",
       "      <td>-0.564419</td>\n",
       "      <td>0.034191</td>\n",
       "      <td>-0.060416</td>\n",
       "      <td>-0.139576</td>\n",
       "      <td>-0.003641</td>\n",
       "      <td>-0.223221</td>\n",
       "      <td>-0.017135</td>\n",
       "      <td>-0.078546</td>\n",
       "      <td>...</td>\n",
       "      <td>-0.025944</td>\n",
       "      <td>0.166423</td>\n",
       "      <td>0.651566</td>\n",
       "      <td>0.040161</td>\n",
       "      <td>-0.159730</td>\n",
       "      <td>0.003436</td>\n",
       "      <td>0.055312</td>\n",
       "      <td>-0.116239</td>\n",
       "      <td>-0.050342</td>\n",
       "      <td>0.013199</td>\n",
       "    </tr>\n",
       "    <tr>\n",
       "      <th>2</th>\n",
       "      <td>-0.014058</td>\n",
       "      <td>0.228418</td>\n",
       "      <td>-0.219643</td>\n",
       "      <td>0.029500</td>\n",
       "      <td>-0.085234</td>\n",
       "      <td>-0.143649</td>\n",
       "      <td>-0.021582</td>\n",
       "      <td>0.113329</td>\n",
       "      <td>0.046962</td>\n",
       "      <td>-0.078151</td>\n",
       "      <td>...</td>\n",
       "      <td>-0.002281</td>\n",
       "      <td>0.229942</td>\n",
       "      <td>0.263426</td>\n",
       "      <td>0.014790</td>\n",
       "      <td>-0.123075</td>\n",
       "      <td>0.003364</td>\n",
       "      <td>0.057449</td>\n",
       "      <td>-0.051289</td>\n",
       "      <td>-0.073087</td>\n",
       "      <td>0.008750</td>\n",
       "    </tr>\n",
       "    <tr>\n",
       "      <th>3</th>\n",
       "      <td>-0.043319</td>\n",
       "      <td>0.298675</td>\n",
       "      <td>-0.854351</td>\n",
       "      <td>0.016129</td>\n",
       "      <td>-0.024788</td>\n",
       "      <td>-0.091839</td>\n",
       "      <td>-0.040798</td>\n",
       "      <td>-0.051126</td>\n",
       "      <td>0.188965</td>\n",
       "      <td>-0.037856</td>\n",
       "      <td>...</td>\n",
       "      <td>-0.013124</td>\n",
       "      <td>0.192270</td>\n",
       "      <td>1.000000</td>\n",
       "      <td>0.010992</td>\n",
       "      <td>-0.061961</td>\n",
       "      <td>0.000418</td>\n",
       "      <td>-0.009890</td>\n",
       "      <td>-0.184604</td>\n",
       "      <td>-0.011864</td>\n",
       "      <td>0.000322</td>\n",
       "    </tr>\n",
       "    <tr>\n",
       "      <th>4</th>\n",
       "      <td>-0.111637</td>\n",
       "      <td>0.061624</td>\n",
       "      <td>-0.945913</td>\n",
       "      <td>0.037507</td>\n",
       "      <td>-0.093550</td>\n",
       "      <td>-0.229755</td>\n",
       "      <td>-0.030720</td>\n",
       "      <td>-0.373634</td>\n",
       "      <td>0.540045</td>\n",
       "      <td>-0.062403</td>\n",
       "      <td>...</td>\n",
       "      <td>-0.049297</td>\n",
       "      <td>0.204747</td>\n",
       "      <td>1.000000</td>\n",
       "      <td>0.047893</td>\n",
       "      <td>-0.159464</td>\n",
       "      <td>0.002639</td>\n",
       "      <td>0.136922</td>\n",
       "      <td>-0.197407</td>\n",
       "      <td>-0.026673</td>\n",
       "      <td>0.005366</td>\n",
       "    </tr>\n",
       "    <tr>\n",
       "      <th>...</th>\n",
       "      <td>...</td>\n",
       "      <td>...</td>\n",
       "      <td>...</td>\n",
       "      <td>...</td>\n",
       "      <td>...</td>\n",
       "      <td>...</td>\n",
       "      <td>...</td>\n",
       "      <td>...</td>\n",
       "      <td>...</td>\n",
       "      <td>...</td>\n",
       "      <td>...</td>\n",
       "      <td>...</td>\n",
       "      <td>...</td>\n",
       "      <td>...</td>\n",
       "      <td>...</td>\n",
       "      <td>...</td>\n",
       "      <td>...</td>\n",
       "      <td>...</td>\n",
       "      <td>...</td>\n",
       "      <td>...</td>\n",
       "      <td>...</td>\n",
       "    </tr>\n",
       "    <tr>\n",
       "      <th>3410</th>\n",
       "      <td>-0.004774</td>\n",
       "      <td>0.140852</td>\n",
       "      <td>-0.244372</td>\n",
       "      <td>0.006438</td>\n",
       "      <td>-0.005423</td>\n",
       "      <td>-0.031193</td>\n",
       "      <td>0.000200</td>\n",
       "      <td>-0.039649</td>\n",
       "      <td>-0.031746</td>\n",
       "      <td>-0.015202</td>\n",
       "      <td>...</td>\n",
       "      <td>-0.003277</td>\n",
       "      <td>0.085032</td>\n",
       "      <td>0.312112</td>\n",
       "      <td>0.007087</td>\n",
       "      <td>-0.034591</td>\n",
       "      <td>0.000404</td>\n",
       "      <td>0.011229</td>\n",
       "      <td>-0.053829</td>\n",
       "      <td>-0.014607</td>\n",
       "      <td>0.002525</td>\n",
       "    </tr>\n",
       "    <tr>\n",
       "      <th>3411</th>\n",
       "      <td>-0.000297</td>\n",
       "      <td>0.274667</td>\n",
       "      <td>-0.395288</td>\n",
       "      <td>0.006408</td>\n",
       "      <td>-0.016521</td>\n",
       "      <td>-0.029854</td>\n",
       "      <td>-0.015158</td>\n",
       "      <td>-0.033906</td>\n",
       "      <td>-0.037692</td>\n",
       "      <td>-0.017748</td>\n",
       "      <td>...</td>\n",
       "      <td>-0.001806</td>\n",
       "      <td>0.136130</td>\n",
       "      <td>0.424288</td>\n",
       "      <td>0.005770</td>\n",
       "      <td>-0.029389</td>\n",
       "      <td>0.000367</td>\n",
       "      <td>0.023654</td>\n",
       "      <td>-0.088670</td>\n",
       "      <td>-0.010503</td>\n",
       "      <td>0.002539</td>\n",
       "    </tr>\n",
       "    <tr>\n",
       "      <th>3412</th>\n",
       "      <td>-0.014390</td>\n",
       "      <td>0.198994</td>\n",
       "      <td>-0.241311</td>\n",
       "      <td>0.006379</td>\n",
       "      <td>-0.016638</td>\n",
       "      <td>-0.036923</td>\n",
       "      <td>-0.015718</td>\n",
       "      <td>-0.018158</td>\n",
       "      <td>-0.021846</td>\n",
       "      <td>-0.017950</td>\n",
       "      <td>...</td>\n",
       "      <td>-0.005324</td>\n",
       "      <td>0.107012</td>\n",
       "      <td>0.304995</td>\n",
       "      <td>0.003994</td>\n",
       "      <td>-0.041149</td>\n",
       "      <td>-0.000025</td>\n",
       "      <td>0.012788</td>\n",
       "      <td>-0.054089</td>\n",
       "      <td>-0.010662</td>\n",
       "      <td>0.001119</td>\n",
       "    </tr>\n",
       "    <tr>\n",
       "      <th>3413</th>\n",
       "      <td>-0.015159</td>\n",
       "      <td>0.125848</td>\n",
       "      <td>-0.201475</td>\n",
       "      <td>0.006028</td>\n",
       "      <td>-0.008085</td>\n",
       "      <td>-0.027455</td>\n",
       "      <td>-0.009870</td>\n",
       "      <td>-0.069521</td>\n",
       "      <td>0.047447</td>\n",
       "      <td>-0.017309</td>\n",
       "      <td>...</td>\n",
       "      <td>-0.005797</td>\n",
       "      <td>0.077307</td>\n",
       "      <td>0.205986</td>\n",
       "      <td>0.007218</td>\n",
       "      <td>-0.023312</td>\n",
       "      <td>0.000419</td>\n",
       "      <td>0.021300</td>\n",
       "      <td>-0.044602</td>\n",
       "      <td>-0.009040</td>\n",
       "      <td>0.000301</td>\n",
       "    </tr>\n",
       "    <tr>\n",
       "      <th>3414</th>\n",
       "      <td>-0.011534</td>\n",
       "      <td>0.139760</td>\n",
       "      <td>-0.169328</td>\n",
       "      <td>0.005875</td>\n",
       "      <td>-0.013806</td>\n",
       "      <td>-0.036438</td>\n",
       "      <td>-0.014726</td>\n",
       "      <td>-0.070038</td>\n",
       "      <td>-0.066819</td>\n",
       "      <td>-0.013137</td>\n",
       "      <td>...</td>\n",
       "      <td>-0.006200</td>\n",
       "      <td>0.081893</td>\n",
       "      <td>0.183225</td>\n",
       "      <td>0.006017</td>\n",
       "      <td>-0.038590</td>\n",
       "      <td>0.000355</td>\n",
       "      <td>0.011619</td>\n",
       "      <td>-0.038435</td>\n",
       "      <td>-0.009396</td>\n",
       "      <td>0.000246</td>\n",
       "    </tr>\n",
       "  </tbody>\n",
       "</table>\n",
       "<p>3415 rows × 146 columns</p>\n",
       "</div>"
      ]
     },
     "metadata": {},
     "execution_count": 262
    }
   ],
   "metadata": {}
  },
  {
   "cell_type": "markdown",
   "source": [
    "# SVD"
   ],
   "metadata": {}
  },
  {
   "cell_type": "code",
   "execution_count": 130,
   "source": [
    "X_train, y_train, X_test, y_test = prepare_data()\n",
    "\n",
    "U, S, Vh = np.linalg.svd(X_train)\n",
    "svd =  TruncatedSVD(n_components = 2)\n",
    "A_transformed = svd.fit_transform(X_train)"
   ],
   "outputs": [],
   "metadata": {}
  },
  {
   "cell_type": "code",
   "execution_count": 131,
   "source": [
    "# check\n",
    "S_ = linalg.diagsvd(S, X_train.shape[0], X_train.shape[1])\n",
    "train_transformed = np.dot(U, np.dot(S_, Vh))\n",
    "np.any(np.absolute(X_train - train_transformed) > 0.01)"
   ],
   "outputs": [
    {
     "output_type": "execute_result",
     "data": {
      "text/plain": [
       "False"
      ]
     },
     "metadata": {},
     "execution_count": 131
    }
   ],
   "metadata": {}
  },
  {
   "cell_type": "code",
   "execution_count": 132,
   "source": [
    "clf = Ridge(solver='svd')\n",
    "clf.fit(X_train, y_train)\n",
    "y_pred = clf.predict(X_test)\n"
   ],
   "outputs": [],
   "metadata": {}
  },
  {
   "cell_type": "code",
   "execution_count": 133,
   "source": [
    "clf.get_params()"
   ],
   "outputs": [
    {
     "output_type": "execute_result",
     "data": {
      "text/plain": [
       "{'alpha': 1.0,\n",
       " 'copy_X': True,\n",
       " 'fit_intercept': True,\n",
       " 'max_iter': None,\n",
       " 'normalize': 'deprecated',\n",
       " 'positive': False,\n",
       " 'random_state': None,\n",
       " 'solver': 'svd',\n",
       " 'tol': 0.001}"
      ]
     },
     "metadata": {},
     "execution_count": 133
    }
   ],
   "metadata": {}
  },
  {
   "cell_type": "code",
   "execution_count": 137,
   "source": [
    "r2_score(y_test, y_pred)"
   ],
   "outputs": [
    {
     "output_type": "execute_result",
     "data": {
      "text/plain": [
       "0.9796698905020927"
      ]
     },
     "metadata": {},
     "execution_count": 137
    }
   ],
   "metadata": {}
  },
  {
   "cell_type": "code",
   "execution_count": 138,
   "source": [
    "scores = dict()\n",
    "for alpha in np.arange(1, 11, 0.1):\n",
    "    clf = Ridge(solver='svd') #sag\n",
    "    clf.fit(X_train, y_train)\n",
    "    y_pred = clf.predict(X_test)\n",
    "\n",
    "    scores[round(alpha,1)] = r2_score(y_test, y_pred)\n",
    "best_alpha = max(scores.items(), key=lambda t: t[1])\n",
    "best_alpha\n"
   ],
   "outputs": [
    {
     "output_type": "execute_result",
     "data": {
      "text/plain": [
       "(1.0, 0.9796698905020927)"
      ]
     },
     "metadata": {},
     "execution_count": 138
    }
   ],
   "metadata": {}
  },
  {
   "cell_type": "code",
   "execution_count": 139,
   "source": [
    "for k,v in scores.items():\n",
    "    print(f\"alpha={k}, r2_score={v}\")"
   ],
   "outputs": [
    {
     "output_type": "stream",
     "name": "stdout",
     "text": [
      "alpha=1.0, r2_score=0.9796698905020927\n",
      "alpha=1.1, r2_score=0.9796698905020927\n",
      "alpha=1.2, r2_score=0.9796698905020927\n",
      "alpha=1.3, r2_score=0.9796698905020927\n",
      "alpha=1.4, r2_score=0.9796698905020927\n",
      "alpha=1.5, r2_score=0.9796698905020927\n",
      "alpha=1.6, r2_score=0.9796698905020927\n",
      "alpha=1.7, r2_score=0.9796698905020927\n",
      "alpha=1.8, r2_score=0.9796698905020927\n",
      "alpha=1.9, r2_score=0.9796698905020927\n",
      "alpha=2.0, r2_score=0.9796698905020927\n",
      "alpha=2.1, r2_score=0.9796698905020927\n",
      "alpha=2.2, r2_score=0.9796698905020927\n",
      "alpha=2.3, r2_score=0.9796698905020927\n",
      "alpha=2.4, r2_score=0.9796698905020927\n",
      "alpha=2.5, r2_score=0.9796698905020927\n",
      "alpha=2.6, r2_score=0.9796698905020927\n",
      "alpha=2.7, r2_score=0.9796698905020927\n",
      "alpha=2.8, r2_score=0.9796698905020927\n",
      "alpha=2.9, r2_score=0.9796698905020927\n",
      "alpha=3.0, r2_score=0.9796698905020927\n",
      "alpha=3.1, r2_score=0.9796698905020927\n",
      "alpha=3.2, r2_score=0.9796698905020927\n",
      "alpha=3.3, r2_score=0.9796698905020927\n",
      "alpha=3.4, r2_score=0.9796698905020927\n",
      "alpha=3.5, r2_score=0.9796698905020927\n",
      "alpha=3.6, r2_score=0.9796698905020927\n",
      "alpha=3.7, r2_score=0.9796698905020927\n",
      "alpha=3.8, r2_score=0.9796698905020927\n",
      "alpha=3.9, r2_score=0.9796698905020927\n",
      "alpha=4.0, r2_score=0.9796698905020927\n",
      "alpha=4.1, r2_score=0.9796698905020927\n",
      "alpha=4.2, r2_score=0.9796698905020927\n",
      "alpha=4.3, r2_score=0.9796698905020927\n",
      "alpha=4.4, r2_score=0.9796698905020927\n",
      "alpha=4.5, r2_score=0.9796698905020927\n",
      "alpha=4.6, r2_score=0.9796698905020927\n",
      "alpha=4.7, r2_score=0.9796698905020927\n",
      "alpha=4.8, r2_score=0.9796698905020927\n",
      "alpha=4.9, r2_score=0.9796698905020927\n",
      "alpha=5.0, r2_score=0.9796698905020927\n",
      "alpha=5.1, r2_score=0.9796698905020927\n",
      "alpha=5.2, r2_score=0.9796698905020927\n",
      "alpha=5.3, r2_score=0.9796698905020927\n",
      "alpha=5.4, r2_score=0.9796698905020927\n",
      "alpha=5.5, r2_score=0.9796698905020927\n",
      "alpha=5.6, r2_score=0.9796698905020927\n",
      "alpha=5.7, r2_score=0.9796698905020927\n",
      "alpha=5.8, r2_score=0.9796698905020927\n",
      "alpha=5.9, r2_score=0.9796698905020927\n",
      "alpha=6.0, r2_score=0.9796698905020927\n",
      "alpha=6.1, r2_score=0.9796698905020927\n",
      "alpha=6.2, r2_score=0.9796698905020927\n",
      "alpha=6.3, r2_score=0.9796698905020927\n",
      "alpha=6.4, r2_score=0.9796698905020927\n",
      "alpha=6.5, r2_score=0.9796698905020927\n",
      "alpha=6.6, r2_score=0.9796698905020927\n",
      "alpha=6.7, r2_score=0.9796698905020927\n",
      "alpha=6.8, r2_score=0.9796698905020927\n",
      "alpha=6.9, r2_score=0.9796698905020927\n",
      "alpha=7.0, r2_score=0.9796698905020927\n",
      "alpha=7.1, r2_score=0.9796698905020927\n",
      "alpha=7.2, r2_score=0.9796698905020927\n",
      "alpha=7.3, r2_score=0.9796698905020927\n",
      "alpha=7.4, r2_score=0.9796698905020927\n",
      "alpha=7.5, r2_score=0.9796698905020927\n",
      "alpha=7.6, r2_score=0.9796698905020927\n",
      "alpha=7.7, r2_score=0.9796698905020927\n",
      "alpha=7.8, r2_score=0.9796698905020927\n",
      "alpha=7.9, r2_score=0.9796698905020927\n",
      "alpha=8.0, r2_score=0.9796698905020927\n",
      "alpha=8.1, r2_score=0.9796698905020927\n",
      "alpha=8.2, r2_score=0.9796698905020927\n",
      "alpha=8.3, r2_score=0.9796698905020927\n",
      "alpha=8.4, r2_score=0.9796698905020927\n",
      "alpha=8.5, r2_score=0.9796698905020927\n",
      "alpha=8.6, r2_score=0.9796698905020927\n",
      "alpha=8.7, r2_score=0.9796698905020927\n",
      "alpha=8.8, r2_score=0.9796698905020927\n",
      "alpha=8.9, r2_score=0.9796698905020927\n",
      "alpha=9.0, r2_score=0.9796698905020927\n",
      "alpha=9.1, r2_score=0.9796698905020927\n",
      "alpha=9.2, r2_score=0.9796698905020927\n",
      "alpha=9.3, r2_score=0.9796698905020927\n",
      "alpha=9.4, r2_score=0.9796698905020927\n",
      "alpha=9.5, r2_score=0.9796698905020927\n",
      "alpha=9.6, r2_score=0.9796698905020927\n",
      "alpha=9.7, r2_score=0.9796698905020927\n",
      "alpha=9.8, r2_score=0.9796698905020927\n",
      "alpha=9.9, r2_score=0.9796698905020927\n",
      "alpha=10.0, r2_score=0.9796698905020927\n",
      "alpha=10.1, r2_score=0.9796698905020927\n",
      "alpha=10.2, r2_score=0.9796698905020927\n",
      "alpha=10.3, r2_score=0.9796698905020927\n",
      "alpha=10.4, r2_score=0.9796698905020927\n",
      "alpha=10.5, r2_score=0.9796698905020927\n",
      "alpha=10.6, r2_score=0.9796698905020927\n",
      "alpha=10.7, r2_score=0.9796698905020927\n",
      "alpha=10.8, r2_score=0.9796698905020927\n",
      "alpha=10.9, r2_score=0.9796698905020927\n"
     ]
    }
   ],
   "metadata": {}
  },
  {
   "cell_type": "markdown",
   "source": [
    "# Gradient Descent"
   ],
   "metadata": {}
  },
  {
   "cell_type": "code",
   "execution_count": 186,
   "source": [
    "EPSILON = 1e-10\n",
    "\n",
    "def mse(actual: np.ndarray, predicted: np.ndarray):\n",
    "    \"\"\" Mean Squared Error \"\"\"\n",
    "    return np.mean(np.square(actual - predicted))\n",
    "\n",
    "\n",
    "def rmse(actual: np.ndarray, predicted: np.ndarray):\n",
    "    \"\"\" Root Mean Squared Error \"\"\"\n",
    "    return np.sqrt(mse(actual, predicted))\n",
    "\n",
    "def NRMSE(actual: np.ndarray, predicted: np.ndarray):\n",
    "    \"\"\" Normalized Root Mean Squared Error \"\"\"\n",
    "    return rmse(actual, predicted) / (actual.max() - actual.min())\n",
    "\n",
    "def smape(actual: np.ndarray, predicted: np.ndarray):\n",
    "    \"\"\"\n",
    "    Symmetric Mean Absolute Percentage Error\n",
    "    Note: result is NOT multiplied by 100\n",
    "    \"\"\"\n",
    "    return np.mean(2.0 * np.abs(actual - predicted) / ((np.abs(actual) + np.abs(predicted)) + EPSILON))"
   ],
   "outputs": [],
   "metadata": {}
  },
  {
   "cell_type": "code",
   "execution_count": 263,
   "source": [
    "#Lasso(L1) ,Ridge(L2) and Elastic-Net(L1/L2) Regularization\n",
    "param_grid={\n",
    "    \"alpha\": [1e-15,1e-10,1e-5,1e-4,1e-3,1e-2,1e-1,1,2,3,4,5,10,15]\n",
    "}\n",
    "print(\"Best regularisation parameters:\")\n",
    "for penalty in ['l1', 'l2', 'elasticnet']:\n",
    "    regr = SGDRegressor(max_iter=2000, penalty=penalty, loss=\"huber\")\n",
    "    grid = GridSearchCV(regr, param_grid, n_jobs = 10, scoring=make_scorer(smape))\n",
    "    grid.fit(X_train, y_train.ravel())\n",
    "    y_pred = grid.predict(X_test)\n",
    "    print(f\"\\tfor {penalty}: {grid.best_params_}; smape={grid.best_score_}\")"
   ],
   "outputs": [
    {
     "output_type": "stream",
     "name": "stdout",
     "text": [
      "Best regularisation parameters:\n",
      "\tfor l1: {'alpha': 1e-15}; smape=0.18232642908044625\n",
      "\tfor l2: {'alpha': 0.0001}; smape=0.18260122712759516\n",
      "\tfor elasticnet: {'alpha': 1e-15}; smape=0.1822576085292142\n"
     ]
    }
   ],
   "metadata": {}
  },
  {
   "cell_type": "code",
   "execution_count": 265,
   "source": [
    "scores_smape = dict()\n",
    "\n",
    "for iteration in range(1, 2000, 10):\n",
    "    regr = SGDRegressor(max_iter=iteration, penalty='l1', alpha=1e-15)\n",
    "    regr.fit(X_train, y_train.ravel())\n",
    "    scores_smape[iteration] = smape(y_test.ravel(), regr.predict(X_test))\n",
    "\n",
    "sns.lineplot(x=scores_smape.keys(), y=scores_smape.values())"
   ],
   "outputs": [
    {
     "output_type": "execute_result",
     "data": {
      "text/plain": [
       "<AxesSubplot:>"
      ]
     },
     "metadata": {},
     "execution_count": 265
    },
    {
     "output_type": "display_data",
     "data": {
      "text/plain": [
       "<Figure size 432x288 with 1 Axes>"
      ],
      "image/png": "[encoded data removed]"
     },
     "metadata": {
      "needs_background": "light"
     }
    }
   ],
   "metadata": {}
  },
  {
   "cell_type": "code",
   "execution_count": 266,
   "source": [
    "scores_smape = dict()\n",
    "\n",
    "for iteration in range(1, 2000, 10):\n",
    "    regr = SGDRegressor(max_iter=iteration, penalty='l2', alpha=0.0001)\n",
    "    regr.fit(X_train, y_train.ravel())\n",
    "    scores_smape[iteration] = smape(y_test.ravel(), regr.predict(X_test))\n",
    "\n",
    "sns.lineplot(x=scores_smape.keys(), y=scores_smape.values())\n"
   ],
   "outputs": [
    {
     "output_type": "execute_result",
     "data": {
      "text/plain": [
       "<AxesSubplot:>"
      ]
     },
     "metadata": {},
     "execution_count": 266
    },
    {
     "output_type": "display_data",
     "data": {
      "text/plain": [
       "<Figure size 432x288 with 1 Axes>"
      ],
      "image/png": "[encoded data removed]"
     },
     "metadata": {
      "needs_background": "light"
     }
    }
   ],
   "metadata": {}
  },
  {
   "cell_type": "code",
   "execution_count": 267,
   "source": [
    "scores_smape = dict()\n",
    "\n",
    "for iteration in range(1, 2000, 10):\n",
    "    regr = SGDRegressor(max_iter=iteration, penalty='elasticnet', alpha=1e-15)\n",
    "    regr.fit(X_train, y_train.ravel())\n",
    "    scores_smape[iteration] = smape(y_test.ravel(), regr.predict(X_test))\n",
    "\n",
    "sns.lineplot(x=scores_smape.keys(), y=scores_smape.values())"
   ],
   "outputs": [
    {
     "output_type": "execute_result",
     "data": {
      "text/plain": [
       "<AxesSubplot:>"
      ]
     },
     "metadata": {},
     "execution_count": 267
    },
    {
     "output_type": "display_data",
     "data": {
      "text/plain": [
       "<Figure size 432x288 with 1 Axes>"
      ],
      "image/png": "[encoded data removed]"
     },
     "metadata": {
      "needs_background": "light"
     }
    }
   ],
   "metadata": {}
  }
 ],
 "metadata": {
  "orig_nbformat": 4,
  "language_info": {
   "name": "python",
   "version": "3.9.7",
   "mimetype": "text/x-python",
   "codemirror_mode": {
    "name": "ipython",
    "version": 3
   },
   "pygments_lexer": "ipython3",
   "nbconvert_exporter": "python",
   "file_extension": ".py"
  },
  "kernelspec": {
   "name": "python3",
   "display_name": "Python 3.9.7 64-bit ('base': conda)"
  },
  "interpreter": {
   "hash": "41dad33ac27be026cb602e0a62f760d014741d4939993a4186ae922aa189125a"
  }
 },
 "nbformat": 4,
 "nbformat_minor": 2
}